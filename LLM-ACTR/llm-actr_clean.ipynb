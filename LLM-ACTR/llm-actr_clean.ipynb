{
  "cells": [
    {
      "cell_type": "code",
      "execution_count": 1,
      "metadata": {
        "colab": {
          "base_uri": "https://localhost:8080/"
        },
        "id": "BLtyWfaHszHy",
        "outputId": "fb93147a-2d38-46d9-b2b9-c57a12df6dfe"
      },
      "outputs": [
        {
          "name": "stdout",
          "output_type": "stream",
          "text": [
            "Collecting datasets\n",
            "  Downloading datasets-3.0.1-py3-none-any.whl.metadata (20 kB)\n",
            "Collecting transformers==4.37.2\n",
            "  Downloading transformers-4.37.2-py3-none-any.whl.metadata (129 kB)\n",
            "\u001b[2K     \u001b[90m━━━━━━━━━━━━━━━━━━━━━━━━━━━━━━━━━━━━━━━━\u001b[0m \u001b[32m129.4/129.4 kB\u001b[0m \u001b[31m6.6 MB/s\u001b[0m eta \u001b[36m0:00:00\u001b[0m\n",
            "\u001b[?25hCollecting evaluate\n",
            "  Downloading evaluate-0.4.3-py3-none-any.whl.metadata (9.2 kB)\n",
            "Requirement already satisfied: accelerate in /usr/local/lib/python3.10/dist-packages (0.34.2)\n",
            "Collecting optimum\n",
            "  Downloading optimum-1.22.0-py3-none-any.whl.metadata (20 kB)\n",
            "Collecting auto-gptq\n",
            "  Downloading auto_gptq-0.7.1-cp310-cp310-manylinux_2_17_x86_64.manylinux2014_x86_64.whl.metadata (18 kB)\n",
            "Requirement already satisfied: filelock in /usr/local/lib/python3.10/dist-packages (from transformers==4.37.2) (3.16.1)\n",
            "Requirement already satisfied: huggingface-hub<1.0,>=0.19.3 in /usr/local/lib/python3.10/dist-packages (from transformers==4.37.2) (0.24.7)\n",
            "Requirement already satisfied: numpy>=1.17 in /usr/local/lib/python3.10/dist-packages (from transformers==4.37.2) (1.26.4)\n",
            "Requirement already satisfied: packaging>=20.0 in /usr/local/lib/python3.10/dist-packages (from transformers==4.37.2) (24.1)\n",
            "Requirement already satisfied: pyyaml>=5.1 in /usr/local/lib/python3.10/dist-packages (from transformers==4.37.2) (6.0.2)\n",
            "Requirement already satisfied: regex!=2019.12.17 in /usr/local/lib/python3.10/dist-packages (from transformers==4.37.2) (2024.9.11)\n",
            "Requirement already satisfied: requests in /usr/local/lib/python3.10/dist-packages (from transformers==4.37.2) (2.32.3)\n",
            "Collecting tokenizers<0.19,>=0.14 (from transformers==4.37.2)\n",
            "  Downloading tokenizers-0.15.2-cp310-cp310-manylinux_2_17_x86_64.manylinux2014_x86_64.whl.metadata (6.7 kB)\n",
            "Requirement already satisfied: safetensors>=0.4.1 in /usr/local/lib/python3.10/dist-packages (from transformers==4.37.2) (0.4.5)\n",
            "Requirement already satisfied: tqdm>=4.27 in /usr/local/lib/python3.10/dist-packages (from transformers==4.37.2) (4.66.5)\n",
            "Collecting pyarrow>=15.0.0 (from datasets)\n",
            "  Downloading pyarrow-17.0.0-cp310-cp310-manylinux_2_28_x86_64.whl.metadata (3.3 kB)\n",
            "Collecting dill<0.3.9,>=0.3.0 (from datasets)\n",
            "  Downloading dill-0.3.8-py3-none-any.whl.metadata (10 kB)\n",
            "Requirement already satisfied: pandas in /usr/local/lib/python3.10/dist-packages (from datasets) (2.1.4)\n",
            "Collecting xxhash (from datasets)\n",
            "  Downloading xxhash-3.5.0-cp310-cp310-manylinux_2_17_x86_64.manylinux2014_x86_64.whl.metadata (12 kB)\n",
            "Collecting multiprocess (from datasets)\n",
            "  Downloading multiprocess-0.70.17-py310-none-any.whl.metadata (7.2 kB)\n",
            "Requirement already satisfied: fsspec<=2024.6.1,>=2023.1.0 in /usr/local/lib/python3.10/dist-packages (from fsspec[http]<=2024.6.1,>=2023.1.0->datasets) (2024.6.1)\n",
            "Requirement already satisfied: aiohttp in /usr/local/lib/python3.10/dist-packages (from datasets) (3.10.5)\n",
            "Requirement already satisfied: psutil in /usr/local/lib/python3.10/dist-packages (from accelerate) (5.9.5)\n",
            "Requirement already satisfied: torch>=1.10.0 in /usr/local/lib/python3.10/dist-packages (from accelerate) (2.4.1+cu121)\n",
            "Collecting coloredlogs (from optimum)\n",
            "  Downloading coloredlogs-15.0.1-py2.py3-none-any.whl.metadata (12 kB)\n",
            "Requirement already satisfied: sympy in /usr/local/lib/python3.10/dist-packages (from optimum) (1.13.3)\n",
            "Requirement already satisfied: sentencepiece in /usr/local/lib/python3.10/dist-packages (from auto-gptq) (0.2.0)\n",
            "Collecting rouge (from auto-gptq)\n",
            "  Downloading rouge-1.0.1-py3-none-any.whl.metadata (4.1 kB)\n",
            "Collecting gekko (from auto-gptq)\n",
            "  Downloading gekko-1.2.1-py3-none-any.whl.metadata (3.0 kB)\n",
            "Collecting peft>=0.5.0 (from auto-gptq)\n",
            "  Downloading peft-0.13.0-py3-none-any.whl.metadata (13 kB)\n",
            "Requirement already satisfied: aiohappyeyeballs>=2.3.0 in /usr/local/lib/python3.10/dist-packages (from aiohttp->datasets) (2.4.0)\n",
            "Requirement already satisfied: aiosignal>=1.1.2 in /usr/local/lib/python3.10/dist-packages (from aiohttp->datasets) (1.3.1)\n",
            "Requirement already satisfied: attrs>=17.3.0 in /usr/local/lib/python3.10/dist-packages (from aiohttp->datasets) (24.2.0)\n",
            "Requirement already satisfied: frozenlist>=1.1.1 in /usr/local/lib/python3.10/dist-packages (from aiohttp->datasets) (1.4.1)\n",
            "Requirement already satisfied: multidict<7.0,>=4.5 in /usr/local/lib/python3.10/dist-packages (from aiohttp->datasets) (6.1.0)\n",
            "Requirement already satisfied: yarl<2.0,>=1.0 in /usr/local/lib/python3.10/dist-packages (from aiohttp->datasets) (1.11.1)\n",
            "Requirement already satisfied: async-timeout<5.0,>=4.0 in /usr/local/lib/python3.10/dist-packages (from aiohttp->datasets) (4.0.3)\n",
            "Requirement already satisfied: typing-extensions>=3.7.4.3 in /usr/local/lib/python3.10/dist-packages (from huggingface-hub<1.0,>=0.19.3->transformers==4.37.2) (4.12.2)\n",
            "Requirement already satisfied: charset-normalizer<4,>=2 in /usr/local/lib/python3.10/dist-packages (from requests->transformers==4.37.2) (3.3.2)\n",
            "Requirement already satisfied: idna<4,>=2.5 in /usr/local/lib/python3.10/dist-packages (from requests->transformers==4.37.2) (3.10)\n",
            "Requirement already satisfied: urllib3<3,>=1.21.1 in /usr/local/lib/python3.10/dist-packages (from requests->transformers==4.37.2) (2.2.3)\n",
            "Requirement already satisfied: certifi>=2017.4.17 in /usr/local/lib/python3.10/dist-packages (from requests->transformers==4.37.2) (2024.8.30)\n",
            "Requirement already satisfied: networkx in /usr/local/lib/python3.10/dist-packages (from torch>=1.10.0->accelerate) (3.3)\n",
            "Requirement already satisfied: jinja2 in /usr/local/lib/python3.10/dist-packages (from torch>=1.10.0->accelerate) (3.1.4)\n",
            "Requirement already satisfied: protobuf in /usr/local/lib/python3.10/dist-packages (from transformers[sentencepiece]<4.45.0,>=4.29->optimum) (3.20.3)\n",
            "Collecting humanfriendly>=9.1 (from coloredlogs->optimum)\n",
            "  Downloading humanfriendly-10.0-py2.py3-none-any.whl.metadata (9.2 kB)\n",
            "INFO: pip is looking at multiple versions of multiprocess to determine which version is compatible with other requirements. This could take a while.\n",
            "Collecting multiprocess (from datasets)\n",
            "  Downloading multiprocess-0.70.16-py310-none-any.whl.metadata (7.2 kB)\n",
            "Requirement already satisfied: python-dateutil>=2.8.2 in /usr/local/lib/python3.10/dist-packages (from pandas->datasets) (2.8.2)\n",
            "Requirement already satisfied: pytz>=2020.1 in /usr/local/lib/python3.10/dist-packages (from pandas->datasets) (2024.2)\n",
            "Requirement already satisfied: tzdata>=2022.1 in /usr/local/lib/python3.10/dist-packages (from pandas->datasets) (2024.1)\n",
            "Requirement already satisfied: six in /usr/local/lib/python3.10/dist-packages (from rouge->auto-gptq) (1.16.0)\n",
            "Requirement already satisfied: mpmath<1.4,>=1.1.0 in /usr/local/lib/python3.10/dist-packages (from sympy->optimum) (1.3.0)\n",
            "Requirement already satisfied: MarkupSafe>=2.0 in /usr/local/lib/python3.10/dist-packages (from jinja2->torch>=1.10.0->accelerate) (2.1.5)\n",
            "Downloading transformers-4.37.2-py3-none-any.whl (8.4 MB)\n",
            "\u001b[2K   \u001b[90m━━━━━━━━━━━━━━━━━━━━━━━━━━━━━━━━━━━━━━━━\u001b[0m \u001b[32m8.4/8.4 MB\u001b[0m \u001b[31m98.1 MB/s\u001b[0m eta \u001b[36m0:00:00\u001b[0m\n",
            "\u001b[?25hDownloading datasets-3.0.1-py3-none-any.whl (471 kB)\n",
            "\u001b[2K   \u001b[90m━━━━━━━━━━━━━━━━━━━━━━━━━━━━━━━━━━━━━━━━\u001b[0m \u001b[32m471.6/471.6 kB\u001b[0m \u001b[31m33.9 MB/s\u001b[0m eta \u001b[36m0:00:00\u001b[0m\n",
            "\u001b[?25hDownloading evaluate-0.4.3-py3-none-any.whl (84 kB)\n",
            "\u001b[2K   \u001b[90m━━━━━━━━━━━━━━━━━━━━━━━━━━━━━━━━━━━━━━━━\u001b[0m \u001b[32m84.0/84.0 kB\u001b[0m \u001b[31m6.1 MB/s\u001b[0m eta \u001b[36m0:00:00\u001b[0m\n",
            "\u001b[?25hDownloading optimum-1.22.0-py3-none-any.whl (453 kB)\n",
            "\u001b[2K   \u001b[90m━━━━━━━━━━━━━━━━━━━━━━━━━━━━━━━━━━━━━━━━\u001b[0m \u001b[32m453.7/453.7 kB\u001b[0m \u001b[31m26.1 MB/s\u001b[0m eta \u001b[36m0:00:00\u001b[0m\n",
            "\u001b[?25hDownloading auto_gptq-0.7.1-cp310-cp310-manylinux_2_17_x86_64.manylinux2014_x86_64.whl (23.5 MB)\n",
            "\u001b[2K   \u001b[90m━━━━━━━━━━━━━━━━━━━━━━━━━━━━━━━━━━━━━━━━\u001b[0m \u001b[32m23.5/23.5 MB\u001b[0m \u001b[31m71.0 MB/s\u001b[0m eta \u001b[36m0:00:00\u001b[0m\n",
            "\u001b[?25hDownloading dill-0.3.8-py3-none-any.whl (116 kB)\n",
            "\u001b[2K   \u001b[90m━━━━━━━━━━━━━━━━━━━━━━━━━━━━━━━━━━━━━━━━\u001b[0m \u001b[32m116.3/116.3 kB\u001b[0m \u001b[31m7.9 MB/s\u001b[0m eta \u001b[36m0:00:00\u001b[0m\n",
            "\u001b[?25hDownloading peft-0.13.0-py3-none-any.whl (322 kB)\n",
            "\u001b[2K   \u001b[90m━━━━━━━━━━━━━━━━━━━━━━━━━━━━━━━━━━━━━━━━\u001b[0m \u001b[32m322.5/322.5 kB\u001b[0m \u001b[31m21.9 MB/s\u001b[0m eta \u001b[36m0:00:00\u001b[0m\n",
            "\u001b[?25hDownloading pyarrow-17.0.0-cp310-cp310-manylinux_2_28_x86_64.whl (39.9 MB)\n",
            "\u001b[2K   \u001b[90m━━━━━━━━━━━━━━━━━━━━━━━━━━━━━━━━━━━━━━━━\u001b[0m \u001b[32m39.9/39.9 MB\u001b[0m \u001b[31m44.9 MB/s\u001b[0m eta \u001b[36m0:00:00\u001b[0m\n",
            "\u001b[?25hDownloading tokenizers-0.15.2-cp310-cp310-manylinux_2_17_x86_64.manylinux2014_x86_64.whl (3.6 MB)\n",
            "\u001b[2K   \u001b[90m━━━━━━━━━━━━━━━━━━━━━━━━━━━━━━━━━━━━━━━━\u001b[0m \u001b[32m3.6/3.6 MB\u001b[0m \u001b[31m89.9 MB/s\u001b[0m eta \u001b[36m0:00:00\u001b[0m\n",
            "\u001b[?25hDownloading coloredlogs-15.0.1-py2.py3-none-any.whl (46 kB)\n",
            "\u001b[2K   \u001b[90m━━━━━━━━━━━━━━━━━━━━━━━━━━━━━━━━━━━━━━━━\u001b[0m \u001b[32m46.0/46.0 kB\u001b[0m \u001b[31m3.5 MB/s\u001b[0m eta \u001b[36m0:00:00\u001b[0m\n",
            "\u001b[?25hDownloading gekko-1.2.1-py3-none-any.whl (13.2 MB)\n",
            "\u001b[2K   \u001b[90m━━━━━━━━━━━━━━━━━━━━━━━━━━━━━━━━━━━━━━━━\u001b[0m \u001b[32m13.2/13.2 MB\u001b[0m \u001b[31m96.0 MB/s\u001b[0m eta \u001b[36m0:00:00\u001b[0m\n",
            "\u001b[?25hDownloading multiprocess-0.70.16-py310-none-any.whl (134 kB)\n",
            "\u001b[2K   \u001b[90m━━━━━━━━━━━━━━━━━━━━━━━━━━━━━━━━━━━━━━━━\u001b[0m \u001b[32m134.8/134.8 kB\u001b[0m \u001b[31m11.5 MB/s\u001b[0m eta \u001b[36m0:00:00\u001b[0m\n",
            "\u001b[?25hDownloading rouge-1.0.1-py3-none-any.whl (13 kB)\n",
            "Downloading xxhash-3.5.0-cp310-cp310-manylinux_2_17_x86_64.manylinux2014_x86_64.whl (194 kB)\n",
            "\u001b[2K   \u001b[90m━━━━━━━━━━━━━━━━━━━━━━━━━━━━━━━━━━━━━━━━\u001b[0m \u001b[32m194.1/194.1 kB\u001b[0m \u001b[31m14.5 MB/s\u001b[0m eta \u001b[36m0:00:00\u001b[0m\n",
            "\u001b[?25hDownloading humanfriendly-10.0-py2.py3-none-any.whl (86 kB)\n",
            "\u001b[2K   \u001b[90m━━━━━━━━━━━━━━━━━━━━━━━━━━━━━━━━━━━━━━━━\u001b[0m \u001b[32m86.8/86.8 kB\u001b[0m \u001b[31m7.3 MB/s\u001b[0m eta \u001b[36m0:00:00\u001b[0m\n",
            "\u001b[?25hInstalling collected packages: xxhash, rouge, pyarrow, humanfriendly, gekko, dill, multiprocess, coloredlogs, tokenizers, transformers, peft, datasets, optimum, evaluate, auto-gptq\n",
            "  Attempting uninstall: pyarrow\n",
            "    Found existing installation: pyarrow 14.0.2\n",
            "    Uninstalling pyarrow-14.0.2:\n",
            "      Successfully uninstalled pyarrow-14.0.2\n",
            "  Attempting uninstall: tokenizers\n",
            "    Found existing installation: tokenizers 0.19.1\n",
            "    Uninstalling tokenizers-0.19.1:\n",
            "      Successfully uninstalled tokenizers-0.19.1\n",
            "  Attempting uninstall: transformers\n",
            "    Found existing installation: transformers 4.44.2\n",
            "    Uninstalling transformers-4.44.2:\n",
            "      Successfully uninstalled transformers-4.44.2\n",
            "\u001b[31mERROR: pip's dependency resolver does not currently take into account all the packages that are installed. This behaviour is the source of the following dependency conflicts.\n",
            "cudf-cu12 24.4.1 requires pyarrow<15.0.0a0,>=14.0.1, but you have pyarrow 17.0.0 which is incompatible.\n",
            "ibis-framework 8.0.0 requires pyarrow<16,>=2, but you have pyarrow 17.0.0 which is incompatible.\u001b[0m\u001b[31m\n",
            "\u001b[0mSuccessfully installed auto-gptq-0.7.1 coloredlogs-15.0.1 datasets-3.0.1 dill-0.3.8 evaluate-0.4.3 gekko-1.2.1 humanfriendly-10.0 multiprocess-0.70.16 optimum-1.22.0 peft-0.13.0 pyarrow-17.0.0 rouge-1.0.1 tokenizers-0.15.2 transformers-4.37.2 xxhash-3.5.0\n",
            "Mounted at /content/drive\n"
          ]
        }
      ],
      "source": [
        "import sys\n",
        "if 'google.colab' in sys.modules:  \n",
        "    # Installing requisite packages\n",
        "    !pip install datasets transformers==4.37.2 evaluate accelerate optimum auto-gptq\n",
        "\n",
        "    from google.colab import drive\n",
        "    drive.mount('/content/drive')\n",
        "\n",
        "file_path = '/content/drive/My Drive/VSM_BRIMS_03_02.csv'"
      ]
    },
    {
      "cell_type": "markdown",
      "metadata": {
        "id": "sGgMIa12JwO9"
      },
      "source": []
    },
    {
      "cell_type": "code",
      "execution_count": 2,
      "metadata": {
        "id": "bhRQzALQtogb"
      },
      "outputs": [],
      "source": [
        "import pandas as pd\n",
        "from datasets import Dataset\n",
        "from transformers import AutoTokenizer"
      ]
    },
    {
      "cell_type": "code",
      "execution_count": 3,
      "metadata": {
        "colab": {
          "base_uri": "https://localhost:8080/"
        },
        "id": "5Sl4RvtetqAX",
        "outputId": "836c3c8e-ec79-4d52-bb84-4c740d073c04"
      },
      "outputs": [
        {
          "name": "stdout",
          "output_type": "stream",
          "text": [
            "   task  participant  trial  decision_type  choice  OEE1  OEE2  CT1  CT2\n",
            "0     0            0      0              0       1    88    86   46   48\n",
            "1     0            0      1              1       1    88    86   46   48\n",
            "2     0            0      2              0       1    88    86   46   48\n",
            "3     0            0      3              0       1    88    86   46   48\n",
            "4     0            0      4              0       1    88    86   46   48\n",
            "   task  participant  trial  decision_type  choice  OEE1  OEE2  CT1  CT2  \\\n",
            "0     0            0      0              0       1    88    86   46   48   \n",
            "1     0            0      1              1       1    88    86   46   48   \n",
            "2     0            0      2              0       1    88    86   46   48   \n",
            "3     0            0      3              0       1    88    86   46   48   \n",
            "4     0            0      4              0       1    88    86   46   48   \n",
            "\n",
            "   multiclass_target  \n",
            "0                  3  \n",
            "1                  4  \n",
            "2                  3  \n",
            "3                  3  \n",
            "4                  3  \n"
          ]
        }
      ],
      "source": [
        "df = pd.read_csv('/content/drive/My Drive/VSM_BRIMS_03_02.csv', header=0)\n",
        "\n",
        "df.columns = ['task', 'participant', 'trial', 'decision_type', 'choice', 'OEE1', 'OEE2', 'CT1', 'CT2']\n",
        "\n",
        "print(df.head())\n",
        "df['multiclass_target'] = df['choice'] * 3 + df['decision_type']\n",
        "print(df.head())"
      ]
    },
    {
      "cell_type": "code",
      "execution_count": 4,
      "metadata": {
        "colab": {
          "base_uri": "https://localhost:8080/"
        },
        "id": "pC8KVryavijV",
        "outputId": "46630d60-9c86-4552-a7ff-1be8e8e2221b"
      },
      "outputs": [
        {
          "name": "stdout",
          "output_type": "stream",
          "text": [
            "Task column is present.\n"
          ]
        }
      ],
      "source": [
        "if 'task' in df.columns:\n",
        "    print(\"Task column is present.\")\n",
        "else:\n",
        "    print(\"Task column is missing. Available columns:\", df.columns)"
      ]
    },
    {
      "cell_type": "code",
      "execution_count": 5,
      "metadata": {
        "colab": {
          "base_uri": "https://localhost:8080/"
        },
        "id": "M-tizUjntx9K",
        "outputId": "4d9b301c-6570-4a62-f8db-76a5686b9bfa"
      },
      "outputs": [
        {
          "name": "stdout",
          "output_type": "stream",
          "text": [
            "0\n",
            "1\n",
            "2\n",
            "3\n",
            "4\n",
            "5\n",
            "6\n",
            "7\n",
            "8\n",
            "9\n",
            "10\n",
            "11\n",
            "12\n",
            "13\n",
            "14\n",
            "15\n",
            "16\n",
            "17\n",
            "18\n",
            "19\n",
            "20\n",
            "21\n",
            "22\n",
            "23\n",
            "24\n",
            "25\n",
            "26\n",
            "27\n",
            "28\n",
            "29\n",
            "30\n",
            "31\n"
          ]
        }
      ],
      "source": [
        "# iterative prompts\n",
        "import pandas as pd\n",
        "\n",
        "# question template\n",
        "question_template = (\n",
        "    \"Our manufacturing line has two sections with potential defect sources: pre-assembly (0) and assembly (1). \"\n",
        "    \"Pre-assembly takes {CT1} seconds with an Overall Equipment Effectiveness(OEE) rate of {OEE1}%, while assembly takes {CT2} seconds with an OEE rate of {OEE2}%. \"\n",
        "    \"To reduce total assembly time by 4 seconds, we need to identify which section can be shortened with minimal defect increase. \"\n",
        "    \"It's important to note that reducing cycle time will also lead to an increase in headcount costs.\"\n",
        "    \"There are two options: reduce pre-assembly time (0) or reduce assembly time (1).\\nQ: Which section do you choose to optimize? A: \"\n",
        ")\n",
        "text = []\n",
        "\n",
        "# Iterate over each task\n",
        "for task in df['task'].unique():\n",
        "    df_task = df[df['task'] == task]\n",
        "    print(task)\n",
        "    if not df_task.empty:\n",
        "        OEE1 = df_task['OEE1'].iloc[0]\n",
        "        OEE2 = df_task['OEE2'].iloc[0]\n",
        "        CT1 = df_task['CT1'].iloc[0]\n",
        "        CT2 = df_task['CT2'].iloc[0]\n",
        "        prompt = question_template.format(OEE1=OEE1, OEE2=OEE2, CT1=CT1, CT2=CT2)\n",
        "\n",
        "        # Apply the prompt to each row in the task\n",
        "        for index, row in df_task.iterrows():\n",
        "            text.append(prompt)\n",
        "    else:\n",
        "        \n",
        "        num_trials_expected = 15 \n",
        "        text.extend([\"Data not available for this task.\"] * num_trials_expected)\n",
        "\n",
        "\n",
        "if len(text) < len(df):\n",
        "    text.extend([\"Data missing due to processing error.\"] * (len(df) - len(text)))\n",
        "elif len(text) > len(df):\n",
        "    text = text[:len(df)]\n",
        "\n",
        "\n",
        "df['text'] = text\n"
      ]
    },
    {
      "cell_type": "code",
      "execution_count": 6,
      "metadata": {
        "colab": {
          "base_uri": "https://localhost:8080/"
        },
        "id": "Po2a_DVAwLD9",
        "outputId": "a5fefaa7-bfa0-4fc5-cbd8-c70bfa5b1c36"
      },
      "outputs": [
        {
          "data": {
            "text/plain": [
              "Dataset({\n",
              "    features: ['task', 'participant', 'trial', 'decision_type', 'choice', 'OEE1', 'OEE2', 'CT1', 'CT2', 'multiclass_target', 'text'],\n",
              "    num_rows: 2012\n",
              "})"
            ]
          },
          "execution_count": 6,
          "metadata": {},
          "output_type": "execute_result"
        }
      ],
      "source": [
        "dat = Dataset.from_pandas(df)\n",
        "dat"
      ]
    },
    {
      "cell_type": "code",
      "execution_count": 7,
      "metadata": {
        "colab": {
          "base_uri": "https://localhost:8080/"
        },
        "id": "kETLzEZ2wWH8",
        "outputId": "2cb15ab2-e2ba-4d95-aa7a-c746961b54ba"
      },
      "outputs": [
        {
          "data": {
            "text/plain": [
              "{'task': 0,\n",
              " 'participant': 0,\n",
              " 'trial': 0,\n",
              " 'decision_type': 0,\n",
              " 'choice': 1,\n",
              " 'OEE1': 88,\n",
              " 'OEE2': 86,\n",
              " 'CT1': 46,\n",
              " 'CT2': 48,\n",
              " 'multiclass_target': 3,\n",
              " 'text': \"Our manufacturing line has two sections with potential defect sources: pre-assembly (0) and assembly (1). Pre-assembly takes 46 seconds with an Overall Equipment Effectiveness(OEE) rate of 88%, while assembly takes 48 seconds with an OEE rate of 86%. To reduce total assembly time by 4 seconds, we need to identify which section can be shortened with minimal defect increase. It's important to note that reducing cycle time will also lead to an increase in headcount costs.There are two options: reduce pre-assembly time (0) or reduce assembly time (1).\\nQ: Which section do you choose to optimize? A: \"}"
            ]
          },
          "execution_count": 7,
          "metadata": {},
          "output_type": "execute_result"
        }
      ],
      "source": [
        "dat[0]"
      ]
    },
    {
      "cell_type": "code",
      "execution_count": 8,
      "metadata": {
        "colab": {
          "base_uri": "https://localhost:8080/",
          "height": 1000,
          "referenced_widgets": [
            "511f0cf67a054704bdf903b1cc17bf63",
            "44b086fe2afe41a28f0f1e17c3047556",
            "0032dee78aca45369a611d27ebb6ed0a",
            "4b5d03db9ce64acda7a8ef0d9d72ef94",
            "79294ec749f8403187cecf746599ac59",
            "0cba4e95c14947478dc3d96efb93131a",
            "43fe4d31ab4543d2939291eb3086b328",
            "514d1fee5d1846f7887b9103828d5e4d",
            "6e0a9ca113a34e0e94345337145a226b",
            "15d7b0b492174834a8ea495a8303eb7a",
            "035afdc441cd4342a093186135303427",
            "b81a1fb89108487fb5bd363e3fa27d65",
            "4531128b704344a084f752f0d3dc9600",
            "116f5b65b5164dfcbd1cc99631bc56af",
            "cca141408aaf4e2e813bbc0ae11b5443",
            "74b0cc7be25646c19859d35df36a241f",
            "dd9de85eb0714945aaf2f55859da957a",
            "befb1cea90464aac9d565ade35af3353",
            "05eb48003e2f4cb08627bb3729a02b59",
            "2ca4d1b3bef74420a372f6646e93ff5c",
            "1e7b68ad1ec44f95bc08cb5a61c3a510",
            "57c77207b0a1425cb8ef7e1960263db4",
            "0ca70e0fd9fd44cea5266682fd70def5",
            "e5c42f42622c4e4c80d2535881ef2500",
            "720edcd04cb340af959e6bb31562dfb5",
            "6701971c487c482297c12f134557ce2d",
            "23d16fccf7ad4b29b56253221964f644",
            "8a6997ca0a964bc1ae708786ed6cf62b",
            "2dd4cb22b1df431296e52567fb48f743",
            "44691c61672c4e90bf20d3fe39dd85b1",
            "79a87e18063542a7a7ab4f6db1495914",
            "7e53bd001dd24ec49147f2ca7d603a73",
            "3ef5cbb109804da689940c4e23a10092",
            "10925300b8aa4868988fc366fd2f8754",
            "034bec7d768f4d4ab4d3d45947403ece",
            "8c4162875dbc477b93e86bd92add8874",
            "51260bcd2b1f45678278c0f435dde1b5",
            "eca6c74c72fc47ceb1c098a2c3ad3068",
            "5ada9d508c9a479791e2eb97fb0005f5",
            "344a9c50adb44d20877d3036d0249f70",
            "c0214e3062144018be93f8ac5c5b8297",
            "aab4685dde754a1596d3d305fac6aec9",
            "c865268c1afa43f6b7e71b55ecabb4f0",
            "629912a42d894678806bfd053883c681",
            "99bdb1678536440fab3b20ab2d1d8541",
            "6db572ce11ff4654aead68bea6e24b95",
            "0712c207336d4a928bf16eebb3e653f1",
            "f30cadb34dac4165b63f0fab790420e5",
            "be24d41d98de4718986b6177cf4a870e",
            "10ac7f09b05a45a29aa5e60a57c40787",
            "2b772b07d4b04bc4be0f7c778ff1b619",
            "4ae28b2282e2478683d55fd98a59ea9a",
            "d2c0d2c33b254a2599bfa0f8ef6f2259",
            "c35df69a0437448e8810b9703e9438e6",
            "98d2bd9cecdf402384d09fd3ea860a58",
            "767fff3dd69149209dd4a1ed30b19d3c",
            "b37246000d234959b25444d674b44b1e",
            "14ca286f97d944eb88f5c14960417f7f",
            "5e681d858fd7492ba72a0e4e3c4c302c",
            "d6c28929b4634e978cd431627b836847",
            "7635396e98e64312bae4b39d505f0cc3",
            "892db1ec57fa41129c5a92874f7e9251",
            "c945437ade364eb6af981c234679fa02",
            "46a8e17a13e44eb58292bb0bdd1af04e",
            "e0c23674a90e4549935545b19261208f",
            "8d9516519f4947da94c9a43b88d15ac3",
            "f97e2d384af64d9994737f044b21af15",
            "f96dd35631f74f7fb1476a41ab4dae74",
            "52c822db05a64289a55f9ef8985a793d",
            "5168e702a9b7498cad34e53f75029b6e",
            "b6f21e0d10914354ade519cdd5421181",
            "2c73b0dda3ac495290cba92ce4d99cf1",
            "4758799555e449ed9433c1d9d9925dde",
            "04a8c4efd487452b83d5ba9ae37c2154",
            "023ac5ef9fb74e41ad69b6da6ccb5a41",
            "a0c817a6ca4b4cbf89eee73e3c5bafaf",
            "1bf33285438c40b6acf54a5a0c4f3322"
          ]
        },
        "id": "uXOQVRZGwdQJ",
        "outputId": "01f40811-d3aa-4cbc-91a2-bef474f79b3f"
      },
      "outputs": [
        {
          "name": "stderr",
          "output_type": "stream",
          "text": [
            "/usr/local/lib/python3.10/dist-packages/huggingface_hub/file_download.py:1150: FutureWarning: `resume_download` is deprecated and will be removed in version 1.0.0. Downloads always resume when possible. If you want to force a new download, use `force_download=True`.\n",
            "  warnings.warn(\n",
            "/usr/local/lib/python3.10/dist-packages/huggingface_hub/utils/_token.py:89: UserWarning: \n",
            "The secret `HF_TOKEN` does not exist in your Colab secrets.\n",
            "To authenticate with the Hugging Face Hub, create a token in your settings tab (https://huggingface.co/settings/tokens), set it as secret in your Google Colab and restart your session.\n",
            "You will be able to reuse this secret in all of your notebooks.\n",
            "Please note that authentication is recommended but still optional to access public models or datasets.\n",
            "  warnings.warn(\n"
          ]
        },
        {
          "data": {
            "text/plain": [
              "config.json:   0%|          | 0.00/784 [00:00<?, ?B/s]"
            ]
          },
          "metadata": {},
          "output_type": "display_data"
        },
        {
          "name": "stderr",
          "output_type": "stream",
          "text": [
            "WARNING:auto_gptq.nn_modules.qlinear.qlinear_cuda:CUDA extension not installed.\n",
            "WARNING:auto_gptq.nn_modules.qlinear.qlinear_cuda_old:CUDA extension not installed.\n"
          ]
        },
        {
          "data": {
            "text/plain": [
              "model.safetensors:   0%|          | 0.00/3.90G [00:00<?, ?B/s]"
            ]
          },
          "metadata": {},
          "output_type": "display_data"
        },
        {
          "name": "stderr",
          "output_type": "stream",
          "text": [
            "Some weights of the model checkpoint at TheBloke/LLama-2-7B-GPTQ were not used when initializing LlamaForCausalLM: ['model.layers.0.mlp.down_proj.bias', 'model.layers.0.mlp.gate_proj.bias', 'model.layers.0.mlp.up_proj.bias', 'model.layers.0.self_attn.k_proj.bias', 'model.layers.0.self_attn.o_proj.bias', 'model.layers.0.self_attn.q_proj.bias', 'model.layers.0.self_attn.v_proj.bias', 'model.layers.1.mlp.down_proj.bias', 'model.layers.1.mlp.gate_proj.bias', 'model.layers.1.mlp.up_proj.bias', 'model.layers.1.self_attn.k_proj.bias', 'model.layers.1.self_attn.o_proj.bias', 'model.layers.1.self_attn.q_proj.bias', 'model.layers.1.self_attn.v_proj.bias', 'model.layers.10.mlp.down_proj.bias', 'model.layers.10.mlp.gate_proj.bias', 'model.layers.10.mlp.up_proj.bias', 'model.layers.10.self_attn.k_proj.bias', 'model.layers.10.self_attn.o_proj.bias', 'model.layers.10.self_attn.q_proj.bias', 'model.layers.10.self_attn.v_proj.bias', 'model.layers.11.mlp.down_proj.bias', 'model.layers.11.mlp.gate_proj.bias', 'model.layers.11.mlp.up_proj.bias', 'model.layers.11.self_attn.k_proj.bias', 'model.layers.11.self_attn.o_proj.bias', 'model.layers.11.self_attn.q_proj.bias', 'model.layers.11.self_attn.v_proj.bias', 'model.layers.12.mlp.down_proj.bias', 'model.layers.12.mlp.gate_proj.bias', 'model.layers.12.mlp.up_proj.bias', 'model.layers.12.self_attn.k_proj.bias', 'model.layers.12.self_attn.o_proj.bias', 'model.layers.12.self_attn.q_proj.bias', 'model.layers.12.self_attn.v_proj.bias', 'model.layers.13.mlp.down_proj.bias', 'model.layers.13.mlp.gate_proj.bias', 'model.layers.13.mlp.up_proj.bias', 'model.layers.13.self_attn.k_proj.bias', 'model.layers.13.self_attn.o_proj.bias', 'model.layers.13.self_attn.q_proj.bias', 'model.layers.13.self_attn.v_proj.bias', 'model.layers.14.mlp.down_proj.bias', 'model.layers.14.mlp.gate_proj.bias', 'model.layers.14.mlp.up_proj.bias', 'model.layers.14.self_attn.k_proj.bias', 'model.layers.14.self_attn.o_proj.bias', 'model.layers.14.self_attn.q_proj.bias', 'model.layers.14.self_attn.v_proj.bias', 'model.layers.15.mlp.down_proj.bias', 'model.layers.15.mlp.gate_proj.bias', 'model.layers.15.mlp.up_proj.bias', 'model.layers.15.self_attn.k_proj.bias', 'model.layers.15.self_attn.o_proj.bias', 'model.layers.15.self_attn.q_proj.bias', 'model.layers.15.self_attn.v_proj.bias', 'model.layers.16.mlp.down_proj.bias', 'model.layers.16.mlp.gate_proj.bias', 'model.layers.16.mlp.up_proj.bias', 'model.layers.16.self_attn.k_proj.bias', 'model.layers.16.self_attn.o_proj.bias', 'model.layers.16.self_attn.q_proj.bias', 'model.layers.16.self_attn.v_proj.bias', 'model.layers.17.mlp.down_proj.bias', 'model.layers.17.mlp.gate_proj.bias', 'model.layers.17.mlp.up_proj.bias', 'model.layers.17.self_attn.k_proj.bias', 'model.layers.17.self_attn.o_proj.bias', 'model.layers.17.self_attn.q_proj.bias', 'model.layers.17.self_attn.v_proj.bias', 'model.layers.18.mlp.down_proj.bias', 'model.layers.18.mlp.gate_proj.bias', 'model.layers.18.mlp.up_proj.bias', 'model.layers.18.self_attn.k_proj.bias', 'model.layers.18.self_attn.o_proj.bias', 'model.layers.18.self_attn.q_proj.bias', 'model.layers.18.self_attn.v_proj.bias', 'model.layers.19.mlp.down_proj.bias', 'model.layers.19.mlp.gate_proj.bias', 'model.layers.19.mlp.up_proj.bias', 'model.layers.19.self_attn.k_proj.bias', 'model.layers.19.self_attn.o_proj.bias', 'model.layers.19.self_attn.q_proj.bias', 'model.layers.19.self_attn.v_proj.bias', 'model.layers.2.mlp.down_proj.bias', 'model.layers.2.mlp.gate_proj.bias', 'model.layers.2.mlp.up_proj.bias', 'model.layers.2.self_attn.k_proj.bias', 'model.layers.2.self_attn.o_proj.bias', 'model.layers.2.self_attn.q_proj.bias', 'model.layers.2.self_attn.v_proj.bias', 'model.layers.20.mlp.down_proj.bias', 'model.layers.20.mlp.gate_proj.bias', 'model.layers.20.mlp.up_proj.bias', 'model.layers.20.self_attn.k_proj.bias', 'model.layers.20.self_attn.o_proj.bias', 'model.layers.20.self_attn.q_proj.bias', 'model.layers.20.self_attn.v_proj.bias', 'model.layers.21.mlp.down_proj.bias', 'model.layers.21.mlp.gate_proj.bias', 'model.layers.21.mlp.up_proj.bias', 'model.layers.21.self_attn.k_proj.bias', 'model.layers.21.self_attn.o_proj.bias', 'model.layers.21.self_attn.q_proj.bias', 'model.layers.21.self_attn.v_proj.bias', 'model.layers.22.mlp.down_proj.bias', 'model.layers.22.mlp.gate_proj.bias', 'model.layers.22.mlp.up_proj.bias', 'model.layers.22.self_attn.k_proj.bias', 'model.layers.22.self_attn.o_proj.bias', 'model.layers.22.self_attn.q_proj.bias', 'model.layers.22.self_attn.v_proj.bias', 'model.layers.23.mlp.down_proj.bias', 'model.layers.23.mlp.gate_proj.bias', 'model.layers.23.mlp.up_proj.bias', 'model.layers.23.self_attn.k_proj.bias', 'model.layers.23.self_attn.o_proj.bias', 'model.layers.23.self_attn.q_proj.bias', 'model.layers.23.self_attn.v_proj.bias', 'model.layers.24.mlp.down_proj.bias', 'model.layers.24.mlp.gate_proj.bias', 'model.layers.24.mlp.up_proj.bias', 'model.layers.24.self_attn.k_proj.bias', 'model.layers.24.self_attn.o_proj.bias', 'model.layers.24.self_attn.q_proj.bias', 'model.layers.24.self_attn.v_proj.bias', 'model.layers.25.mlp.down_proj.bias', 'model.layers.25.mlp.gate_proj.bias', 'model.layers.25.mlp.up_proj.bias', 'model.layers.25.self_attn.k_proj.bias', 'model.layers.25.self_attn.o_proj.bias', 'model.layers.25.self_attn.q_proj.bias', 'model.layers.25.self_attn.v_proj.bias', 'model.layers.26.mlp.down_proj.bias', 'model.layers.26.mlp.gate_proj.bias', 'model.layers.26.mlp.up_proj.bias', 'model.layers.26.self_attn.k_proj.bias', 'model.layers.26.self_attn.o_proj.bias', 'model.layers.26.self_attn.q_proj.bias', 'model.layers.26.self_attn.v_proj.bias', 'model.layers.27.mlp.down_proj.bias', 'model.layers.27.mlp.gate_proj.bias', 'model.layers.27.mlp.up_proj.bias', 'model.layers.27.self_attn.k_proj.bias', 'model.layers.27.self_attn.o_proj.bias', 'model.layers.27.self_attn.q_proj.bias', 'model.layers.27.self_attn.v_proj.bias', 'model.layers.28.mlp.down_proj.bias', 'model.layers.28.mlp.gate_proj.bias', 'model.layers.28.mlp.up_proj.bias', 'model.layers.28.self_attn.k_proj.bias', 'model.layers.28.self_attn.o_proj.bias', 'model.layers.28.self_attn.q_proj.bias', 'model.layers.28.self_attn.v_proj.bias', 'model.layers.29.mlp.down_proj.bias', 'model.layers.29.mlp.gate_proj.bias', 'model.layers.29.mlp.up_proj.bias', 'model.layers.29.self_attn.k_proj.bias', 'model.layers.29.self_attn.o_proj.bias', 'model.layers.29.self_attn.q_proj.bias', 'model.layers.29.self_attn.v_proj.bias', 'model.layers.3.mlp.down_proj.bias', 'model.layers.3.mlp.gate_proj.bias', 'model.layers.3.mlp.up_proj.bias', 'model.layers.3.self_attn.k_proj.bias', 'model.layers.3.self_attn.o_proj.bias', 'model.layers.3.self_attn.q_proj.bias', 'model.layers.3.self_attn.v_proj.bias', 'model.layers.30.mlp.down_proj.bias', 'model.layers.30.mlp.gate_proj.bias', 'model.layers.30.mlp.up_proj.bias', 'model.layers.30.self_attn.k_proj.bias', 'model.layers.30.self_attn.o_proj.bias', 'model.layers.30.self_attn.q_proj.bias', 'model.layers.30.self_attn.v_proj.bias', 'model.layers.31.mlp.down_proj.bias', 'model.layers.31.mlp.gate_proj.bias', 'model.layers.31.mlp.up_proj.bias', 'model.layers.31.self_attn.k_proj.bias', 'model.layers.31.self_attn.o_proj.bias', 'model.layers.31.self_attn.q_proj.bias', 'model.layers.31.self_attn.v_proj.bias', 'model.layers.4.mlp.down_proj.bias', 'model.layers.4.mlp.gate_proj.bias', 'model.layers.4.mlp.up_proj.bias', 'model.layers.4.self_attn.k_proj.bias', 'model.layers.4.self_attn.o_proj.bias', 'model.layers.4.self_attn.q_proj.bias', 'model.layers.4.self_attn.v_proj.bias', 'model.layers.5.mlp.down_proj.bias', 'model.layers.5.mlp.gate_proj.bias', 'model.layers.5.mlp.up_proj.bias', 'model.layers.5.self_attn.k_proj.bias', 'model.layers.5.self_attn.o_proj.bias', 'model.layers.5.self_attn.q_proj.bias', 'model.layers.5.self_attn.v_proj.bias', 'model.layers.6.mlp.down_proj.bias', 'model.layers.6.mlp.gate_proj.bias', 'model.layers.6.mlp.up_proj.bias', 'model.layers.6.self_attn.k_proj.bias', 'model.layers.6.self_attn.o_proj.bias', 'model.layers.6.self_attn.q_proj.bias', 'model.layers.6.self_attn.v_proj.bias', 'model.layers.7.mlp.down_proj.bias', 'model.layers.7.mlp.gate_proj.bias', 'model.layers.7.mlp.up_proj.bias', 'model.layers.7.self_attn.k_proj.bias', 'model.layers.7.self_attn.o_proj.bias', 'model.layers.7.self_attn.q_proj.bias', 'model.layers.7.self_attn.v_proj.bias', 'model.layers.8.mlp.down_proj.bias', 'model.layers.8.mlp.gate_proj.bias', 'model.layers.8.mlp.up_proj.bias', 'model.layers.8.self_attn.k_proj.bias', 'model.layers.8.self_attn.o_proj.bias', 'model.layers.8.self_attn.q_proj.bias', 'model.layers.8.self_attn.v_proj.bias', 'model.layers.9.mlp.down_proj.bias', 'model.layers.9.mlp.gate_proj.bias', 'model.layers.9.mlp.up_proj.bias', 'model.layers.9.self_attn.k_proj.bias', 'model.layers.9.self_attn.o_proj.bias', 'model.layers.9.self_attn.q_proj.bias', 'model.layers.9.self_attn.v_proj.bias']\n",
            "- This IS expected if you are initializing LlamaForCausalLM from the checkpoint of a model trained on another task or with another architecture (e.g. initializing a BertForSequenceClassification model from a BertForPreTraining model).\n",
            "- This IS NOT expected if you are initializing LlamaForCausalLM from the checkpoint of a model that you expect to be exactly identical (initializing a BertForSequenceClassification model from a BertForSequenceClassification model).\n"
          ]
        },
        {
          "data": {
            "text/plain": [
              "generation_config.json:   0%|          | 0.00/132 [00:00<?, ?B/s]"
            ]
          },
          "metadata": {},
          "output_type": "display_data"
        },
        {
          "data": {
            "text/plain": [
              "tokenizer_config.json:   0%|          | 0.00/727 [00:00<?, ?B/s]"
            ]
          },
          "metadata": {},
          "output_type": "display_data"
        },
        {
          "data": {
            "text/plain": [
              "tokenizer.model:   0%|          | 0.00/500k [00:00<?, ?B/s]"
            ]
          },
          "metadata": {},
          "output_type": "display_data"
        },
        {
          "data": {
            "text/plain": [
              "tokenizer.json:   0%|          | 0.00/1.84M [00:00<?, ?B/s]"
            ]
          },
          "metadata": {},
          "output_type": "display_data"
        },
        {
          "data": {
            "text/plain": [
              "special_tokens_map.json:   0%|          | 0.00/411 [00:00<?, ?B/s]"
            ]
          },
          "metadata": {},
          "output_type": "display_data"
        },
        {
          "name": "stdout",
          "output_type": "stream",
          "text": [
            "{\n",
            "  \"_name_or_path\": \"TheBloke/LLama-2-7B-GPTQ\",\n",
            "  \"architectures\": [\n",
            "    \"LlamaForCausalLM\"\n",
            "  ],\n",
            "  \"attention_bias\": false,\n",
            "  \"attention_dropout\": 0.0,\n",
            "  \"bos_token_id\": 1,\n",
            "  \"eos_token_id\": 2,\n",
            "  \"hidden_act\": \"silu\",\n",
            "  \"hidden_size\": 4096,\n",
            "  \"initializer_range\": 0.02,\n",
            "  \"intermediate_size\": 11008,\n",
            "  \"max_length\": 4096,\n",
            "  \"max_position_embeddings\": 4096,\n",
            "  \"model_type\": \"llama\",\n",
            "  \"num_attention_heads\": 32,\n",
            "  \"num_hidden_layers\": 32,\n",
            "  \"num_key_value_heads\": 32,\n",
            "  \"pad_token_id\": 0,\n",
            "  \"pretraining_tp\": 1,\n",
            "  \"quantization_config\": {\n",
            "    \"batch_size\": 1,\n",
            "    \"bits\": 4,\n",
            "    \"block_name_to_quantize\": null,\n",
            "    \"cache_block_outputs\": true,\n",
            "    \"damp_percent\": 0.01,\n",
            "    \"dataset\": null,\n",
            "    \"desc_act\": false,\n",
            "    \"exllama_config\": {\n",
            "      \"version\": 1\n",
            "    },\n",
            "    \"group_size\": 128,\n",
            "    \"max_input_length\": null,\n",
            "    \"model_seqlen\": null,\n",
            "    \"module_name_preceding_first_block\": null,\n",
            "    \"modules_in_block_to_quantize\": null,\n",
            "    \"pad_token_id\": null,\n",
            "    \"quant_method\": \"gptq\",\n",
            "    \"sym\": true,\n",
            "    \"tokenizer\": null,\n",
            "    \"true_sequential\": true,\n",
            "    \"use_cuda_fp16\": false,\n",
            "    \"use_exllama\": true\n",
            "  },\n",
            "  \"rms_norm_eps\": 1e-05,\n",
            "  \"rope_scaling\": null,\n",
            "  \"rope_theta\": 10000.0,\n",
            "  \"tie_word_embeddings\": false,\n",
            "  \"torch_dtype\": \"float16\",\n",
            "  \"transformers_version\": \"4.37.2\",\n",
            "  \"use_cache\": true,\n",
            "  \"vocab_size\": 32000\n",
            "}\n",
            "\n"
          ]
        }
      ],
      "source": [
        "from transformers import AutoModelForCausalLM, AutoTokenizer, pipeline\n",
        "\n",
        "# Load model\n",
        "model_ckpt = 'TheBloke/LLama-2-7B-GPTQ'\n",
        "model = AutoModelForCausalLM.from_pretrained(\n",
        "    model_ckpt,\n",
        "    device_map=\"auto\",\n",
        "    revision=\"main\"\n",
        ")\n",
        "tokenizer = AutoTokenizer.from_pretrained(model_ckpt, use_fast=True)\n",
        "\n",
        "print (model.config.to_json_string())"
      ]
    },
    {
      "cell_type": "code",
      "execution_count": 9,
      "metadata": {
        "colab": {
          "base_uri": "https://localhost:8080/"
        },
        "id": "l18WLwKxEukj",
        "outputId": "bb1c25c0-293f-4957-c9bf-0a8d899f10bb"
      },
      "outputs": [
        {
          "name": "stdout",
          "output_type": "stream",
          "text": [
            "Requirement already satisfied: peft in /usr/local/lib/python3.10/dist-packages (0.13.0)\n",
            "Requirement already satisfied: numpy>=1.17 in /usr/local/lib/python3.10/dist-packages (from peft) (1.26.4)\n",
            "Requirement already satisfied: packaging>=20.0 in /usr/local/lib/python3.10/dist-packages (from peft) (24.1)\n",
            "Requirement already satisfied: psutil in /usr/local/lib/python3.10/dist-packages (from peft) (5.9.5)\n",
            "Requirement already satisfied: pyyaml in /usr/local/lib/python3.10/dist-packages (from peft) (6.0.2)\n",
            "Requirement already satisfied: torch>=1.13.0 in /usr/local/lib/python3.10/dist-packages (from peft) (2.4.1+cu121)\n",
            "Requirement already satisfied: transformers in /usr/local/lib/python3.10/dist-packages (from peft) (4.37.2)\n",
            "Requirement already satisfied: tqdm in /usr/local/lib/python3.10/dist-packages (from peft) (4.66.5)\n",
            "Requirement already satisfied: accelerate>=0.21.0 in /usr/local/lib/python3.10/dist-packages (from peft) (0.34.2)\n",
            "Requirement already satisfied: safetensors in /usr/local/lib/python3.10/dist-packages (from peft) (0.4.5)\n",
            "Requirement already satisfied: huggingface-hub>=0.17.0 in /usr/local/lib/python3.10/dist-packages (from peft) (0.24.7)\n",
            "Requirement already satisfied: filelock in /usr/local/lib/python3.10/dist-packages (from huggingface-hub>=0.17.0->peft) (3.16.1)\n",
            "Requirement already satisfied: fsspec>=2023.5.0 in /usr/local/lib/python3.10/dist-packages (from huggingface-hub>=0.17.0->peft) (2024.6.1)\n",
            "Requirement already satisfied: requests in /usr/local/lib/python3.10/dist-packages (from huggingface-hub>=0.17.0->peft) (2.32.3)\n",
            "Requirement already satisfied: typing-extensions>=3.7.4.3 in /usr/local/lib/python3.10/dist-packages (from huggingface-hub>=0.17.0->peft) (4.12.2)\n",
            "Requirement already satisfied: sympy in /usr/local/lib/python3.10/dist-packages (from torch>=1.13.0->peft) (1.13.3)\n",
            "Requirement already satisfied: networkx in /usr/local/lib/python3.10/dist-packages (from torch>=1.13.0->peft) (3.3)\n",
            "Requirement already satisfied: jinja2 in /usr/local/lib/python3.10/dist-packages (from torch>=1.13.0->peft) (3.1.4)\n",
            "Requirement already satisfied: regex!=2019.12.17 in /usr/local/lib/python3.10/dist-packages (from transformers->peft) (2024.9.11)\n",
            "Requirement already satisfied: tokenizers<0.19,>=0.14 in /usr/local/lib/python3.10/dist-packages (from transformers->peft) (0.15.2)\n",
            "Requirement already satisfied: MarkupSafe>=2.0 in /usr/local/lib/python3.10/dist-packages (from jinja2->torch>=1.13.0->peft) (2.1.5)\n",
            "Requirement already satisfied: charset-normalizer<4,>=2 in /usr/local/lib/python3.10/dist-packages (from requests->huggingface-hub>=0.17.0->peft) (3.3.2)\n",
            "Requirement already satisfied: idna<4,>=2.5 in /usr/local/lib/python3.10/dist-packages (from requests->huggingface-hub>=0.17.0->peft) (3.10)\n",
            "Requirement already satisfied: urllib3<3,>=1.21.1 in /usr/local/lib/python3.10/dist-packages (from requests->huggingface-hub>=0.17.0->peft) (2.2.3)\n",
            "Requirement already satisfied: certifi>=2017.4.17 in /usr/local/lib/python3.10/dist-packages (from requests->huggingface-hub>=0.17.0->peft) (2024.8.30)\n",
            "Requirement already satisfied: mpmath<1.4,>=1.1.0 in /usr/local/lib/python3.10/dist-packages (from sympy->torch>=1.13.0->peft) (1.3.0)\n"
          ]
        }
      ],
      "source": [
        "!pip install peft"
      ]
    },
    {
      "cell_type": "code",
      "execution_count": 10,
      "metadata": {
        "colab": {
          "base_uri": "https://localhost:8080/",
          "height": 1000,
          "referenced_widgets": [
            "9e6da81b4f27476aa0a6b25577fbd84a",
            "80d5f8c2934e4e7584b2ecf875efbea5",
            "b93ad0062ec94a6aa742189ff1877c6b",
            "165280b056b3421097c33a9e9b4c792e",
            "f8bebbe4a6ae4bf8b6a5a283cc3986a0",
            "c1d2e3daa8e7486a8ce93a91b4cf9be6",
            "849115253b3648d6b105e7844120cb9a",
            "fd74302dc1ab421aa3fbda0646620a0d",
            "7fbfd5cd7e344fb29bb18a6e7cf5233a",
            "4a4c1231b5364646926248e6d4e25ba8",
            "48d8765d4b51496bacaaf0918376df8a"
          ]
        },
        "id": "xrZW9tlKwcML",
        "outputId": "0350253a-9a0d-4069-e86d-24cea00b6b14"
      },
      "outputs": [
        {
          "data": {
            "text/plain": [
              "Map:   0%|          | 0/2012 [00:00<?, ? examples/s]"
            ]
          },
          "metadata": {},
          "output_type": "display_data"
        },
        {
          "name": "stderr",
          "output_type": "stream",
          "text": [
            "Asking to truncate to max_length but no maximum length is provided and the model has no predefined maximum length. Default to no truncation.\n"
          ]
        },
        {
          "data": {
            "text/plain": [
              "{'task': 0,\n",
              " 'participant': 0,\n",
              " 'trial': 0,\n",
              " 'decision_type': 0,\n",
              " 'choice': 1,\n",
              " 'OEE1': 88,\n",
              " 'OEE2': 86,\n",
              " 'CT1': 46,\n",
              " 'CT2': 48,\n",
              " 'multiclass_target': 3,\n",
              " 'text': \"Our manufacturing line has two sections with potential defect sources: pre-assembly (0) and assembly (1). Pre-assembly takes 46 seconds with an Overall Equipment Effectiveness(OEE) rate of 88%, while assembly takes 48 seconds with an OEE rate of 86%. To reduce total assembly time by 4 seconds, we need to identify which section can be shortened with minimal defect increase. It's important to note that reducing cycle time will also lead to an increase in headcount costs.There are two options: reduce pre-assembly time (0) or reduce assembly time (1).\\nQ: Which section do you choose to optimize? A: \",\n",
              " 'input_ids': [1,\n",
              "  8680,\n",
              "  12012,\n",
              "  3864,\n",
              "  1196,\n",
              "  756,\n",
              "  1023,\n",
              "  13926,\n",
              "  411,\n",
              "  7037,\n",
              "  23503,\n",
              "  8974,\n",
              "  29901,\n",
              "  758,\n",
              "  29899,\n",
              "  26936,\n",
              "  313,\n",
              "  29900,\n",
              "  29897,\n",
              "  322,\n",
              "  11470,\n",
              "  313,\n",
              "  29896,\n",
              "  467,\n",
              "  4721,\n",
              "  29899,\n",
              "  26936,\n",
              "  4893,\n",
              "  29871,\n",
              "  29946,\n",
              "  29953,\n",
              "  6923,\n",
              "  411,\n",
              "  385,\n",
              "  6811,\n",
              "  497,\n",
              "  11243,\n",
              "  666,\n",
              "  358,\n",
              "  26475,\n",
              "  20193,\n",
              "  29898,\n",
              "  29949,\n",
              "  17896,\n",
              "  29897,\n",
              "  6554,\n",
              "  310,\n",
              "  29871,\n",
              "  29947,\n",
              "  29947,\n",
              "  13667,\n",
              "  1550,\n",
              "  11470,\n",
              "  4893,\n",
              "  29871,\n",
              "  29946,\n",
              "  29947,\n",
              "  6923,\n",
              "  411,\n",
              "  385,\n",
              "  438,\n",
              "  17896,\n",
              "  6554,\n",
              "  310,\n",
              "  29871,\n",
              "  29947,\n",
              "  29953,\n",
              "  15543,\n",
              "  1763,\n",
              "  10032,\n",
              "  3001,\n",
              "  11470,\n",
              "  931,\n",
              "  491,\n",
              "  29871,\n",
              "  29946,\n",
              "  6923,\n",
              "  29892,\n",
              "  591,\n",
              "  817,\n",
              "  304,\n",
              "  12439,\n",
              "  607,\n",
              "  4004,\n",
              "  508,\n",
              "  367,\n",
              "  3273,\n",
              "  6419,\n",
              "  411,\n",
              "  13114,\n",
              "  23503,\n",
              "  7910,\n",
              "  29889,\n",
              "  739,\n",
              "  29915,\n",
              "  29879,\n",
              "  4100,\n",
              "  304,\n",
              "  4443,\n",
              "  393,\n",
              "  27668,\n",
              "  11412,\n",
              "  931,\n",
              "  674,\n",
              "  884,\n",
              "  3275,\n",
              "  304,\n",
              "  385,\n",
              "  7910,\n",
              "  297,\n",
              "  2343,\n",
              "  2798,\n",
              "  21544,\n",
              "  29889,\n",
              "  8439,\n",
              "  526,\n",
              "  1023,\n",
              "  3987,\n",
              "  29901,\n",
              "  10032,\n",
              "  758,\n",
              "  29899,\n",
              "  26936,\n",
              "  931,\n",
              "  313,\n",
              "  29900,\n",
              "  29897,\n",
              "  470,\n",
              "  10032,\n",
              "  11470,\n",
              "  931,\n",
              "  313,\n",
              "  29896,\n",
              "  467,\n",
              "  13,\n",
              "  29984,\n",
              "  29901,\n",
              "  8449,\n",
              "  4004,\n",
              "  437,\n",
              "  366,\n",
              "  6755,\n",
              "  304,\n",
              "  24656,\n",
              "  29973,\n",
              "  319,\n",
              "  29901,\n",
              "  29871],\n",
              " 'attention_mask': [1,\n",
              "  1,\n",
              "  1,\n",
              "  1,\n",
              "  1,\n",
              "  1,\n",
              "  1,\n",
              "  1,\n",
              "  1,\n",
              "  1,\n",
              "  1,\n",
              "  1,\n",
              "  1,\n",
              "  1,\n",
              "  1,\n",
              "  1,\n",
              "  1,\n",
              "  1,\n",
              "  1,\n",
              "  1,\n",
              "  1,\n",
              "  1,\n",
              "  1,\n",
              "  1,\n",
              "  1,\n",
              "  1,\n",
              "  1,\n",
              "  1,\n",
              "  1,\n",
              "  1,\n",
              "  1,\n",
              "  1,\n",
              "  1,\n",
              "  1,\n",
              "  1,\n",
              "  1,\n",
              "  1,\n",
              "  1,\n",
              "  1,\n",
              "  1,\n",
              "  1,\n",
              "  1,\n",
              "  1,\n",
              "  1,\n",
              "  1,\n",
              "  1,\n",
              "  1,\n",
              "  1,\n",
              "  1,\n",
              "  1,\n",
              "  1,\n",
              "  1,\n",
              "  1,\n",
              "  1,\n",
              "  1,\n",
              "  1,\n",
              "  1,\n",
              "  1,\n",
              "  1,\n",
              "  1,\n",
              "  1,\n",
              "  1,\n",
              "  1,\n",
              "  1,\n",
              "  1,\n",
              "  1,\n",
              "  1,\n",
              "  1,\n",
              "  1,\n",
              "  1,\n",
              "  1,\n",
              "  1,\n",
              "  1,\n",
              "  1,\n",
              "  1,\n",
              "  1,\n",
              "  1,\n",
              "  1,\n",
              "  1,\n",
              "  1,\n",
              "  1,\n",
              "  1,\n",
              "  1,\n",
              "  1,\n",
              "  1,\n",
              "  1,\n",
              "  1,\n",
              "  1,\n",
              "  1,\n",
              "  1,\n",
              "  1,\n",
              "  1,\n",
              "  1,\n",
              "  1,\n",
              "  1,\n",
              "  1,\n",
              "  1,\n",
              "  1,\n",
              "  1,\n",
              "  1,\n",
              "  1,\n",
              "  1,\n",
              "  1,\n",
              "  1,\n",
              "  1,\n",
              "  1,\n",
              "  1,\n",
              "  1,\n",
              "  1,\n",
              "  1,\n",
              "  1,\n",
              "  1,\n",
              "  1,\n",
              "  1,\n",
              "  1,\n",
              "  1,\n",
              "  1,\n",
              "  1,\n",
              "  1,\n",
              "  1,\n",
              "  1,\n",
              "  1,\n",
              "  1,\n",
              "  1,\n",
              "  1,\n",
              "  1,\n",
              "  1,\n",
              "  1,\n",
              "  1,\n",
              "  1,\n",
              "  1,\n",
              "  1,\n",
              "  1,\n",
              "  1,\n",
              "  1,\n",
              "  1,\n",
              "  1,\n",
              "  1,\n",
              "  1,\n",
              "  1,\n",
              "  1,\n",
              "  1,\n",
              "  1,\n",
              "  1,\n",
              "  1,\n",
              "  1,\n",
              "  1,\n",
              "  1]}"
            ]
          },
          "execution_count": 10,
          "metadata": {},
          "output_type": "execute_result"
        }
      ],
      "source": [
        "tokenizer.pad_token = tokenizer.eos_token\n",
        "batch_tokenizer = lambda batch: tokenizer(batch['text'], padding=True, truncation=True)\n",
        "\n",
        "#  Tokenizing the dataset\n",
        "dat = dat.map(batch_tokenizer, batched=True)\n",
        "dat[0]"
      ]
    },
    {
      "cell_type": "code",
      "execution_count": 11,
      "metadata": {
        "colab": {
          "base_uri": "https://localhost:8080/"
        },
        "id": "6cOyPzejwv0l",
        "outputId": "85c5ee92-1d97-4d90-8762-f45facee05e5"
      },
      "outputs": [
        {
          "data": {
            "text/plain": [
              "{'task': 0,\n",
              " 'participant': 0,\n",
              " 'trial': 0,\n",
              " 'decision_type': 0,\n",
              " 'choice': 1,\n",
              " 'OEE1': 88,\n",
              " 'OEE2': 86,\n",
              " 'CT1': 46,\n",
              " 'CT2': 48,\n",
              " 'multiclass_target': 3,\n",
              " 'text': \"Our manufacturing line has two sections with potential defect sources: pre-assembly (0) and assembly (1). Pre-assembly takes 46 seconds with an Overall Equipment Effectiveness(OEE) rate of 88%, while assembly takes 48 seconds with an OEE rate of 86%. To reduce total assembly time by 4 seconds, we need to identify which section can be shortened with minimal defect increase. It's important to note that reducing cycle time will also lead to an increase in headcount costs.There are two options: reduce pre-assembly time (0) or reduce assembly time (1).\\nQ: Which section do you choose to optimize? A: \",\n",
              " 'input_ids': [1,\n",
              "  8680,\n",
              "  12012,\n",
              "  3864,\n",
              "  1196,\n",
              "  756,\n",
              "  1023,\n",
              "  13926,\n",
              "  411,\n",
              "  7037,\n",
              "  23503,\n",
              "  8974,\n",
              "  29901,\n",
              "  758,\n",
              "  29899,\n",
              "  26936,\n",
              "  313,\n",
              "  29900,\n",
              "  29897,\n",
              "  322,\n",
              "  11470,\n",
              "  313,\n",
              "  29896,\n",
              "  467,\n",
              "  4721,\n",
              "  29899,\n",
              "  26936,\n",
              "  4893,\n",
              "  29871,\n",
              "  29946,\n",
              "  29953,\n",
              "  6923,\n",
              "  411,\n",
              "  385,\n",
              "  6811,\n",
              "  497,\n",
              "  11243,\n",
              "  666,\n",
              "  358,\n",
              "  26475,\n",
              "  20193,\n",
              "  29898,\n",
              "  29949,\n",
              "  17896,\n",
              "  29897,\n",
              "  6554,\n",
              "  310,\n",
              "  29871,\n",
              "  29947,\n",
              "  29947,\n",
              "  13667,\n",
              "  1550,\n",
              "  11470,\n",
              "  4893,\n",
              "  29871,\n",
              "  29946,\n",
              "  29947,\n",
              "  6923,\n",
              "  411,\n",
              "  385,\n",
              "  438,\n",
              "  17896,\n",
              "  6554,\n",
              "  310,\n",
              "  29871,\n",
              "  29947,\n",
              "  29953,\n",
              "  15543,\n",
              "  1763,\n",
              "  10032,\n",
              "  3001,\n",
              "  11470,\n",
              "  931,\n",
              "  491,\n",
              "  29871,\n",
              "  29946,\n",
              "  6923,\n",
              "  29892,\n",
              "  591,\n",
              "  817,\n",
              "  304,\n",
              "  12439,\n",
              "  607,\n",
              "  4004,\n",
              "  508,\n",
              "  367,\n",
              "  3273,\n",
              "  6419,\n",
              "  411,\n",
              "  13114,\n",
              "  23503,\n",
              "  7910,\n",
              "  29889,\n",
              "  739,\n",
              "  29915,\n",
              "  29879,\n",
              "  4100,\n",
              "  304,\n",
              "  4443,\n",
              "  393,\n",
              "  27668,\n",
              "  11412,\n",
              "  931,\n",
              "  674,\n",
              "  884,\n",
              "  3275,\n",
              "  304,\n",
              "  385,\n",
              "  7910,\n",
              "  297,\n",
              "  2343,\n",
              "  2798,\n",
              "  21544,\n",
              "  29889,\n",
              "  8439,\n",
              "  526,\n",
              "  1023,\n",
              "  3987,\n",
              "  29901,\n",
              "  10032,\n",
              "  758,\n",
              "  29899,\n",
              "  26936,\n",
              "  931,\n",
              "  313,\n",
              "  29900,\n",
              "  29897,\n",
              "  470,\n",
              "  10032,\n",
              "  11470,\n",
              "  931,\n",
              "  313,\n",
              "  29896,\n",
              "  467,\n",
              "  13,\n",
              "  29984,\n",
              "  29901,\n",
              "  8449,\n",
              "  4004,\n",
              "  437,\n",
              "  366,\n",
              "  6755,\n",
              "  304,\n",
              "  24656,\n",
              "  29973,\n",
              "  319,\n",
              "  29901,\n",
              "  29871],\n",
              " 'attention_mask': [1,\n",
              "  1,\n",
              "  1,\n",
              "  1,\n",
              "  1,\n",
              "  1,\n",
              "  1,\n",
              "  1,\n",
              "  1,\n",
              "  1,\n",
              "  1,\n",
              "  1,\n",
              "  1,\n",
              "  1,\n",
              "  1,\n",
              "  1,\n",
              "  1,\n",
              "  1,\n",
              "  1,\n",
              "  1,\n",
              "  1,\n",
              "  1,\n",
              "  1,\n",
              "  1,\n",
              "  1,\n",
              "  1,\n",
              "  1,\n",
              "  1,\n",
              "  1,\n",
              "  1,\n",
              "  1,\n",
              "  1,\n",
              "  1,\n",
              "  1,\n",
              "  1,\n",
              "  1,\n",
              "  1,\n",
              "  1,\n",
              "  1,\n",
              "  1,\n",
              "  1,\n",
              "  1,\n",
              "  1,\n",
              "  1,\n",
              "  1,\n",
              "  1,\n",
              "  1,\n",
              "  1,\n",
              "  1,\n",
              "  1,\n",
              "  1,\n",
              "  1,\n",
              "  1,\n",
              "  1,\n",
              "  1,\n",
              "  1,\n",
              "  1,\n",
              "  1,\n",
              "  1,\n",
              "  1,\n",
              "  1,\n",
              "  1,\n",
              "  1,\n",
              "  1,\n",
              "  1,\n",
              "  1,\n",
              "  1,\n",
              "  1,\n",
              "  1,\n",
              "  1,\n",
              "  1,\n",
              "  1,\n",
              "  1,\n",
              "  1,\n",
              "  1,\n",
              "  1,\n",
              "  1,\n",
              "  1,\n",
              "  1,\n",
              "  1,\n",
              "  1,\n",
              "  1,\n",
              "  1,\n",
              "  1,\n",
              "  1,\n",
              "  1,\n",
              "  1,\n",
              "  1,\n",
              "  1,\n",
              "  1,\n",
              "  1,\n",
              "  1,\n",
              "  1,\n",
              "  1,\n",
              "  1,\n",
              "  1,\n",
              "  1,\n",
              "  1,\n",
              "  1,\n",
              "  1,\n",
              "  1,\n",
              "  1,\n",
              "  1,\n",
              "  1,\n",
              "  1,\n",
              "  1,\n",
              "  1,\n",
              "  1,\n",
              "  1,\n",
              "  1,\n",
              "  1,\n",
              "  1,\n",
              "  1,\n",
              "  1,\n",
              "  1,\n",
              "  1,\n",
              "  1,\n",
              "  1,\n",
              "  1,\n",
              "  1,\n",
              "  1,\n",
              "  1,\n",
              "  1,\n",
              "  1,\n",
              "  1,\n",
              "  1,\n",
              "  1,\n",
              "  1,\n",
              "  1,\n",
              "  1,\n",
              "  1,\n",
              "  1,\n",
              "  1,\n",
              "  1,\n",
              "  1,\n",
              "  1,\n",
              "  1,\n",
              "  1,\n",
              "  1,\n",
              "  1,\n",
              "  1,\n",
              "  1,\n",
              "  1,\n",
              "  1,\n",
              "  1,\n",
              "  1,\n",
              "  1,\n",
              "  1]}"
            ]
          },
          "execution_count": 11,
          "metadata": {},
          "output_type": "execute_result"
        }
      ],
      "source": [
        "dat[0]"
      ]
    },
    {
      "cell_type": "code",
      "execution_count": 12,
      "metadata": {
        "colab": {
          "base_uri": "https://localhost:8080/"
        },
        "id": "WTRJ9YsOwx_E",
        "outputId": "fbb87efe-745a-464e-f673-38f494a61675"
      },
      "outputs": [
        {
          "data": {
            "text/plain": [
              "Dataset({\n",
              "    features: ['task', 'participant', 'trial', 'decision_type', 'choice', 'OEE1', 'OEE2', 'CT1', 'CT2', 'multiclass_target', 'text', 'input_ids', 'attention_mask'],\n",
              "    num_rows: 2012\n",
              "})"
            ]
          },
          "execution_count": 12,
          "metadata": {},
          "output_type": "execute_result"
        }
      ],
      "source": [
        "dat.set_format('torch', columns=['input_ids', 'attention_mask'])\n",
        "dat"
      ]
    },
    {
      "cell_type": "code",
      "execution_count": 13,
      "metadata": {
        "id": "BpwCQRuJw17S"
      },
      "outputs": [],
      "source": [
        "import torch\n",
        "torch.manual_seed(42) # For reproducibility\n",
        "from transformers import AutoModel"
      ]
    },
    {
      "cell_type": "code",
      "execution_count": 14,
      "metadata": {
        "colab": {
          "base_uri": "https://localhost:8080/"
        },
        "id": "oHrMqaA3w4OZ",
        "outputId": "f8db3f80-d704-49b2-880a-c4e2e85408b3"
      },
      "outputs": [
        {
          "data": {
            "text/plain": [
              "device(type='cuda')"
            ]
          },
          "execution_count": 14,
          "metadata": {},
          "output_type": "execute_result"
        }
      ],
      "source": [
        "# Loading the model and moving it to the GPU if available\n",
        "if torch.cuda.is_available():  \n",
        "    device = torch.device('cuda')\n",
        "elif torch.backends.mps.is_available(): \n",
        "    device = torch.device('mps')\n",
        "else:\n",
        "    device = torch.device('cpu')\n",
        "\n",
        "device"
      ]
    },
    {
      "cell_type": "markdown",
      "metadata": {
        "id": "-NEdACKbLWhP"
      },
      "source": [
        "# Fine tuning for predicting decision making behavior"
      ]
    },
    {
      "cell_type": "code",
      "execution_count": 15,
      "metadata": {
        "colab": {
          "base_uri": "https://localhost:8080/"
        },
        "id": "WvXjs-AJ2psp",
        "outputId": "d0454b58-17dd-4f20-d358-99530d33cf8b"
      },
      "outputs": [
        {
          "name": "stdout",
          "output_type": "stream",
          "text": [
            "Number of rows in 'choice' column: 2012\n"
          ]
        }
      ],
      "source": [
        "num_rows = len(dat['choice'])\n",
        "print(\"Number of rows in 'choice' column:\", num_rows)"
      ]
    },
    {
      "cell_type": "code",
      "execution_count": 16,
      "metadata": {
        "id": "p5t8SJ5_8sJd"
      },
      "outputs": [],
      "source": [
        "from transformers import AutoModelForSequenceClassification, TrainingArguments, Trainer\n",
        "import evaluate"
      ]
    },
    {
      "cell_type": "code",
      "execution_count": 17,
      "metadata": {
        "colab": {
          "base_uri": "https://localhost:8080/"
        },
        "id": "-4awriyK8tw9",
        "outputId": "d12cde32-2ab7-4be6-b57e-d1b4dd0e2610"
      },
      "outputs": [
        {
          "data": {
            "text/plain": [
              "DatasetDict({\n",
              "    train: Dataset({\n",
              "        features: ['task', 'participant', 'trial', 'decision_type', 'choice', 'OEE1', 'OEE2', 'CT1', 'CT2', 'multiclass_target', 'text', 'input_ids', 'attention_mask'],\n",
              "        num_rows: 1609\n",
              "    })\n",
              "    test: Dataset({\n",
              "        features: ['task', 'participant', 'trial', 'decision_type', 'choice', 'OEE1', 'OEE2', 'CT1', 'CT2', 'multiclass_target', 'text', 'input_ids', 'attention_mask'],\n",
              "        num_rows: 403\n",
              "    })\n",
              "})"
            ]
          },
          "execution_count": 17,
          "metadata": {},
          "output_type": "execute_result"
        }
      ],
      "source": [
        "# Splitting the data into train and test sets\n",
        "dat = dat.train_test_split(test_size=.2, seed=42)\n",
        "dat"
      ]
    },
    {
      "cell_type": "code",
      "execution_count": 18,
      "metadata": {
        "colab": {
          "base_uri": "https://localhost:8080/",
          "height": 156
        },
        "id": "peqyti9u8w62",
        "outputId": "b05b01cf-c52f-472e-d57e-4d35ca5d9b20"
      },
      "outputs": [
        {
          "data": {
            "text/html": [
              "<div style=\"max-width:800px; border: 1px solid var(--colab-border-color);\"><style>\n",
              "      pre.function-repr-contents {\n",
              "        overflow-x: auto;\n",
              "        padding: 8px 12px;\n",
              "        max-height: 500px;\n",
              "      }\n",
              "\n",
              "      pre.function-repr-contents.function-repr-contents-collapsed {\n",
              "        cursor: pointer;\n",
              "        max-height: 100px;\n",
              "      }\n",
              "    </style>\n",
              "    <pre style=\"white-space: initial; background:\n",
              "         var(--colab-secondary-surface-color); padding: 8px 12px;\n",
              "         border-bottom: 1px solid var(--colab-border-color);\"><b>datasets.arrow_dataset.Dataset</b><br/>def __init__(arrow_table: Table, info: Optional[DatasetInfo]=None, split: Optional[NamedSplit]=None, indices_table: Optional[Table]=None, fingerprint: Optional[str]=None)</pre><pre class=\"function-repr-contents function-repr-contents-collapsed\" style=\"\"><a class=\"filepath\" style=\"display:none\" href=\"#\">/usr/local/lib/python3.10/dist-packages/datasets/arrow_dataset.py</a>A Dataset backed by an Arrow table.</pre>\n",
              "      <script>\n",
              "      if (google.colab.kernel.accessAllowed && google.colab.files && google.colab.files.view) {\n",
              "        for (const element of document.querySelectorAll('.filepath')) {\n",
              "          element.style.display = 'block'\n",
              "          element.onclick = (event) => {\n",
              "            event.preventDefault();\n",
              "            event.stopPropagation();\n",
              "            google.colab.files.view(element.textContent, 631);\n",
              "          };\n",
              "        }\n",
              "      }\n",
              "      for (const element of document.querySelectorAll('.function-repr-contents')) {\n",
              "        element.onclick = (event) => {\n",
              "          event.preventDefault();\n",
              "          event.stopPropagation();\n",
              "          element.classList.toggle('function-repr-contents-collapsed');\n",
              "        };\n",
              "      }\n",
              "      </script>\n",
              "      </div>"
            ],
            "text/plain": [
              "datasets.arrow_dataset.Dataset"
            ]
          },
          "execution_count": 18,
          "metadata": {},
          "output_type": "execute_result"
        }
      ],
      "source": [
        "type(dat['train'])"
      ]
    },
    {
      "cell_type": "code",
      "execution_count": 19,
      "metadata": {
        "colab": {
          "base_uri": "https://localhost:8080/",
          "height": 118,
          "referenced_widgets": [
            "37e3e83007074176910b03ff64cd4990",
            "c4f2f2c51fc1414d9400c814729dceb0",
            "2f7e5611dc934e62831ca32a804c7e38",
            "e52b31725b084b8088bbc1af5f50be54",
            "5fba67eb73514f468da54f182922a926",
            "ac09073cc8f8442fbaff3f93e7a03d9d",
            "113c067b802043d8baf0609debe2865b",
            "6b3d567c37af4708b5b66ad8818fa9b8",
            "9725e1a05dbd4ee0b5f232f42cfdc150",
            "51481b6e301d41328694adc746683144",
            "f2e3a7a4012944dcb9ba94c51c1063ae",
            "f6d6de9a944247fc9a789878bb2d05b4",
            "c5208ab8144e47178fc3d72ac27b91e2",
            "191dbeeee9e24ee6a46530864ad34454",
            "f11ee0b6457f4bbca7220148e57594ec",
            "de3ce30d7d15493f97413d465d4255fe",
            "6cd6fcdc94b049239fe7c2a11e323013",
            "abd3b5232d5a41f78a9e3d77c9c4eb14",
            "1224721dbd7f419f9640aae1a972aa06",
            "2886edb10f204cdbbbd18f2cf2c00cad",
            "ab3a9352245e4522884065b162157d29",
            "627e0c251a534316a7d9f0551f120044"
          ]
        },
        "id": "uBGS1RMJIK2-",
        "outputId": "e2d3d559-f08a-4846-a495-d55228b281b4"
      },
      "outputs": [
        {
          "data": {
            "text/plain": [
              "adapter_config.json:   0%|          | 0.00/416 [00:00<?, ?B/s]"
            ]
          },
          "metadata": {},
          "output_type": "display_data"
        },
        {
          "data": {
            "text/plain": [
              "adapter_model.safetensors:   0%|          | 0.00/6.30M [00:00<?, ?B/s]"
            ]
          },
          "metadata": {},
          "output_type": "display_data"
        },
        {
          "name": "stderr",
          "output_type": "stream",
          "text": [
            "Loading adapter weights from ybelkada/opt-350m-lora led to unexpected keys not found in the model:  ['model.decoder.layers.0.self_attn.q_proj.lora_A.default.weight', 'model.decoder.layers.0.self_attn.q_proj.lora_B.default.weight', 'model.decoder.layers.0.self_attn.v_proj.lora_A.default.weight', 'model.decoder.layers.0.self_attn.v_proj.lora_B.default.weight', 'model.decoder.layers.1.self_attn.q_proj.lora_A.default.weight', 'model.decoder.layers.1.self_attn.q_proj.lora_B.default.weight', 'model.decoder.layers.1.self_attn.v_proj.lora_A.default.weight', 'model.decoder.layers.1.self_attn.v_proj.lora_B.default.weight', 'model.decoder.layers.10.self_attn.q_proj.lora_A.default.weight', 'model.decoder.layers.10.self_attn.q_proj.lora_B.default.weight', 'model.decoder.layers.10.self_attn.v_proj.lora_A.default.weight', 'model.decoder.layers.10.self_attn.v_proj.lora_B.default.weight', 'model.decoder.layers.11.self_attn.q_proj.lora_A.default.weight', 'model.decoder.layers.11.self_attn.q_proj.lora_B.default.weight', 'model.decoder.layers.11.self_attn.v_proj.lora_A.default.weight', 'model.decoder.layers.11.self_attn.v_proj.lora_B.default.weight', 'model.decoder.layers.12.self_attn.q_proj.lora_A.default.weight', 'model.decoder.layers.12.self_attn.q_proj.lora_B.default.weight', 'model.decoder.layers.12.self_attn.v_proj.lora_A.default.weight', 'model.decoder.layers.12.self_attn.v_proj.lora_B.default.weight', 'model.decoder.layers.13.self_attn.q_proj.lora_A.default.weight', 'model.decoder.layers.13.self_attn.q_proj.lora_B.default.weight', 'model.decoder.layers.13.self_attn.v_proj.lora_A.default.weight', 'model.decoder.layers.13.self_attn.v_proj.lora_B.default.weight', 'model.decoder.layers.14.self_attn.q_proj.lora_A.default.weight', 'model.decoder.layers.14.self_attn.q_proj.lora_B.default.weight', 'model.decoder.layers.14.self_attn.v_proj.lora_A.default.weight', 'model.decoder.layers.14.self_attn.v_proj.lora_B.default.weight', 'model.decoder.layers.15.self_attn.q_proj.lora_A.default.weight', 'model.decoder.layers.15.self_attn.q_proj.lora_B.default.weight', 'model.decoder.layers.15.self_attn.v_proj.lora_A.default.weight', 'model.decoder.layers.15.self_attn.v_proj.lora_B.default.weight', 'model.decoder.layers.16.self_attn.q_proj.lora_A.default.weight', 'model.decoder.layers.16.self_attn.q_proj.lora_B.default.weight', 'model.decoder.layers.16.self_attn.v_proj.lora_A.default.weight', 'model.decoder.layers.16.self_attn.v_proj.lora_B.default.weight', 'model.decoder.layers.17.self_attn.q_proj.lora_A.default.weight', 'model.decoder.layers.17.self_attn.q_proj.lora_B.default.weight', 'model.decoder.layers.17.self_attn.v_proj.lora_A.default.weight', 'model.decoder.layers.17.self_attn.v_proj.lora_B.default.weight', 'model.decoder.layers.18.self_attn.q_proj.lora_A.default.weight', 'model.decoder.layers.18.self_attn.q_proj.lora_B.default.weight', 'model.decoder.layers.18.self_attn.v_proj.lora_A.default.weight', 'model.decoder.layers.18.self_attn.v_proj.lora_B.default.weight', 'model.decoder.layers.19.self_attn.q_proj.lora_A.default.weight', 'model.decoder.layers.19.self_attn.q_proj.lora_B.default.weight', 'model.decoder.layers.19.self_attn.v_proj.lora_A.default.weight', 'model.decoder.layers.19.self_attn.v_proj.lora_B.default.weight', 'model.decoder.layers.2.self_attn.q_proj.lora_A.default.weight', 'model.decoder.layers.2.self_attn.q_proj.lora_B.default.weight', 'model.decoder.layers.2.self_attn.v_proj.lora_A.default.weight', 'model.decoder.layers.2.self_attn.v_proj.lora_B.default.weight', 'model.decoder.layers.20.self_attn.q_proj.lora_A.default.weight', 'model.decoder.layers.20.self_attn.q_proj.lora_B.default.weight', 'model.decoder.layers.20.self_attn.v_proj.lora_A.default.weight', 'model.decoder.layers.20.self_attn.v_proj.lora_B.default.weight', 'model.decoder.layers.21.self_attn.q_proj.lora_A.default.weight', 'model.decoder.layers.21.self_attn.q_proj.lora_B.default.weight', 'model.decoder.layers.21.self_attn.v_proj.lora_A.default.weight', 'model.decoder.layers.21.self_attn.v_proj.lora_B.default.weight', 'model.decoder.layers.22.self_attn.q_proj.lora_A.default.weight', 'model.decoder.layers.22.self_attn.q_proj.lora_B.default.weight', 'model.decoder.layers.22.self_attn.v_proj.lora_A.default.weight', 'model.decoder.layers.22.self_attn.v_proj.lora_B.default.weight', 'model.decoder.layers.23.self_attn.q_proj.lora_A.default.weight', 'model.decoder.layers.23.self_attn.q_proj.lora_B.default.weight', 'model.decoder.layers.23.self_attn.v_proj.lora_A.default.weight', 'model.decoder.layers.23.self_attn.v_proj.lora_B.default.weight', 'model.decoder.layers.3.self_attn.q_proj.lora_A.default.weight', 'model.decoder.layers.3.self_attn.q_proj.lora_B.default.weight', 'model.decoder.layers.3.self_attn.v_proj.lora_A.default.weight', 'model.decoder.layers.3.self_attn.v_proj.lora_B.default.weight', 'model.decoder.layers.4.self_attn.q_proj.lora_A.default.weight', 'model.decoder.layers.4.self_attn.q_proj.lora_B.default.weight', 'model.decoder.layers.4.self_attn.v_proj.lora_A.default.weight', 'model.decoder.layers.4.self_attn.v_proj.lora_B.default.weight', 'model.decoder.layers.5.self_attn.q_proj.lora_A.default.weight', 'model.decoder.layers.5.self_attn.q_proj.lora_B.default.weight', 'model.decoder.layers.5.self_attn.v_proj.lora_A.default.weight', 'model.decoder.layers.5.self_attn.v_proj.lora_B.default.weight', 'model.decoder.layers.6.self_attn.q_proj.lora_A.default.weight', 'model.decoder.layers.6.self_attn.q_proj.lora_B.default.weight', 'model.decoder.layers.6.self_attn.v_proj.lora_A.default.weight', 'model.decoder.layers.6.self_attn.v_proj.lora_B.default.weight', 'model.decoder.layers.7.self_attn.q_proj.lora_A.default.weight', 'model.decoder.layers.7.self_attn.q_proj.lora_B.default.weight', 'model.decoder.layers.7.self_attn.v_proj.lora_A.default.weight', 'model.decoder.layers.7.self_attn.v_proj.lora_B.default.weight', 'model.decoder.layers.8.self_attn.q_proj.lora_A.default.weight', 'model.decoder.layers.8.self_attn.q_proj.lora_B.default.weight', 'model.decoder.layers.8.self_attn.v_proj.lora_A.default.weight', 'model.decoder.layers.8.self_attn.v_proj.lora_B.default.weight', 'model.decoder.layers.9.self_attn.q_proj.lora_A.default.weight', 'model.decoder.layers.9.self_attn.q_proj.lora_B.default.weight', 'model.decoder.layers.9.self_attn.v_proj.lora_A.default.weight', 'model.decoder.layers.9.self_attn.v_proj.lora_B.default.weight']. \n"
          ]
        }
      ],
      "source": [
        "from transformers import AutoModelForCausalLM, AutoTokenizer\n",
        "\n",
        "peft_model_id = \"ybelkada/opt-350m-lora\"\n",
        "\n",
        "model.load_adapter(peft_model_id)"
      ]
    },
    {
      "cell_type": "code",
      "execution_count": 20,
      "metadata": {
        "colab": {
          "base_uri": "https://localhost:8080/",
          "height": 81,
          "referenced_widgets": [
            "b4f8c3e0c87b4cf49ee72ae458b03440",
            "de9f2e8d8910479cb7dfe326dc497b7b",
            "b6520bf0cc80425398703c1ea6d73dad",
            "35f10158c0d349a4b6330baeb4eae3be",
            "c7bb0551b86a4200b9a700b45141f2f7",
            "315a6ea6b0d241f1b4ed7a03154c1f92",
            "a93c31e3021e43ed8e23873270dad74b",
            "6612d55c352f45d699d727b5947749b3",
            "a0b78b0f6e06418795724987e91acb1d",
            "676d6ff459644673adc61763599e01e6",
            "d814e37f197c4e22ab472ba29dbb74d8",
            "d37826778db1416eb3daf524aed2cbbd",
            "1c634320be6d453592b7b0479b22f4d8",
            "c7c7bf6735954a1c98ecaa4ecd308e63",
            "646028b4bed24dbf95d0bc8e427c87ca",
            "c68543678c26446394c3e6a38d9cd688",
            "2a0ce0e325a946cfb7d4745c2051daea",
            "52be5e0f04b84122aadcaf80be5464c3",
            "550e46ea6a194d9da070f284b2791f39",
            "8307232aa6b0461bb285e3edfcaab640",
            "e3e694ee99b64672a90a687a7d9b52a3",
            "abe38708fd884bd7b183e16885d1361d"
          ]
        },
        "id": "O2btXXYxqL2K",
        "outputId": "881a2745-a8c8-4dfa-b146-5050c90196f7"
      },
      "outputs": [
        {
          "data": {
            "text/plain": [
              "Map:   0%|          | 0/1609 [00:00<?, ? examples/s]"
            ]
          },
          "metadata": {},
          "output_type": "display_data"
        },
        {
          "data": {
            "text/plain": [
              "Map:   0%|          | 0/403 [00:00<?, ? examples/s]"
            ]
          },
          "metadata": {},
          "output_type": "display_data"
        }
      ],
      "source": [
        "from datasets import load_dataset, DatasetDict\n",
        "\n",
        "train_dataset = dat['train']\n",
        "test_dataset = dat['test']\n",
        "\n",
        "\n",
        "def format_dataset(example):\n",
        "    example['labels'] = example['choice']\n",
        "    return example\n",
        "\n",
        "train_dataset = train_dataset.map(format_dataset, batched=False)\n",
        "test_dataset = test_dataset.map(format_dataset, batched=False)"
      ]
    },
    {
      "cell_type": "code",
      "execution_count": 21,
      "metadata": {
        "colab": {
          "base_uri": "https://localhost:8080/"
        },
        "id": "TYVUDcAA3_XU",
        "outputId": "9c6a48d2-1398-4d5f-c9f5-78ef9b224050"
      },
      "outputs": [
        {
          "name": "stdout",
          "output_type": "stream",
          "text": [
            "[ 0.33658036 -0.821017   -0.43053366 ... -0.36542332  0.2037078\n",
            " -0.14681532]\n"
          ]
        }
      ],
      "source": [
        "#import cognitive vector\n",
        "file_path = '/content/drive/My Drive/mean_output8.csv'\n",
        "cog_data = pd.read_csv(file_path)\n",
        "cognitive_vector_data = cog_data.iloc[-1].values\n",
        "print (cognitive_vector_data)\n",
        "# Convert the numpy array to a PyTorch tensor\n",
        "cognitive_vector = torch.tensor(cognitive_vector_data, dtype=torch.float)\n",
        "\n",
        "cognitive_vector = torch.nn.Parameter(cognitive_vector)\n"
      ]
    },
    {
      "cell_type": "code",
      "execution_count": null,
      "metadata": {
        "id": "Zd3az9GC8eUQ"
      },
      "outputs": [],
      "source": [
        "#import cognitivelayerwrapper and CognitiveLLaMA\n",
        "import torch\n",
        "from cognitiveModels import CognitiveLayerWrapper, CognitiveLLaMA\n",
        "\n",
        "model = CognitiveLLaMA(model, cognitive_vector, target_layer_num=8, multiplier=5, dropout_prob=0.5)"
      ]
    },
    {
      "cell_type": "code",
      "execution_count": 25,
      "metadata": {
        "id": "8onHDhYNRUcd"
      },
      "outputs": [],
      "source": [
        "class CustomTrainer(Trainer):\n",
        "    def get_train_dataloader(self):\n",
        "        dataloader = super().get_train_dataloader()\n",
        "        #print(\"Sample batch from dataloader:\", next(iter(dataloader)))\n",
        "        return dataloader\n",
        "\n",
        "    def compute_loss(self, model, inputs, return_outputs=False):\n",
        "        #print(\"Received inputs in compute_loss:\", inputs)\n",
        "        if 'labels' not in inputs:\n",
        "            raise ValueError(\"Labels key missing in inputs during training.\")\n",
        "        labels = inputs.pop('labels').long()\n",
        "        outputs = model(**inputs)\n",
        "        logits = outputs[0] if isinstance(outputs, tuple) else outputs\n",
        "        loss_fct = torch.nn.CrossEntropyLoss()\n",
        "        loss = loss_fct(logits, labels)\n",
        "        return (loss, outputs) if return_outputs else loss\n",
        "\n"
      ]
    },
    {
      "cell_type": "code",
      "execution_count": 26,
      "metadata": {
        "id": "qT2YkVKAalYF"
      },
      "outputs": [],
      "source": [
        "import torch\n",
        "import torch.nn.functional as F\n",
        "\n",
        "def compute_metrics(pred):\n",
        "    labels = pred.label_ids\n",
        "    if isinstance(pred.predictions, tuple):\n",
        "        logits = pred.predictions[0]\n",
        "    else:\n",
        "        logits = pred.predictions\n",
        "\n",
        "    preds = logits.argmax(-1)\n",
        "\n",
        "    # Calculate probabilities and NLL loss using PyTorch\n",
        "    probabilities = F.softmax(torch.tensor(logits), dim=-1)\n",
        "    labels_tensor = torch.tensor(labels, dtype=torch.long)\n",
        "    nll_loss = F.nll_loss(probabilities.log(), labels_tensor).item()\n",
        "\n",
        "\n",
        "    return {\n",
        "        'nll_loss': nll_loss\n",
        "    }\n"
      ]
    },
    {
      "cell_type": "code",
      "execution_count": 27,
      "metadata": {
        "colab": {
          "base_uri": "https://localhost:8080/"
        },
        "id": "2VZTiYva1ZVQ",
        "outputId": "c5a2d7a1-afa6-443c-92e5-9d5bce413c23"
      },
      "outputs": [
        {
          "data": {
            "text/plain": [
              "156"
            ]
          },
          "execution_count": 27,
          "metadata": {},
          "output_type": "execute_result"
        }
      ],
      "source": [
        "import gc\n",
        "gc.collect()"
      ]
    },
    {
      "cell_type": "code",
      "execution_count": null,
      "metadata": {
        "colab": {
          "base_uri": "https://localhost:8080/",
          "height": 1000
        },
        "collapsed": true,
        "id": "btUmgHJD_4Tp",
        "outputId": "dcf3ebae-36e4-456c-85e5-db99fdc77c26"
      },
      "outputs": [],
      "source": [
        "#huggingface trainer, to train the model\n",
        "from transformers import Trainer, TrainingArguments\n",
        "\n",
        "model.to(device)\n",
        "model_name = f\"{model_ckpt}-finetuned\"\n",
        "batch_size = 2\n",
        "training_args = TrainingArguments(\n",
        "    output_dir= model_name,\n",
        "    save_safetensors = False,\n",
        "    per_device_train_batch_size=batch_size,\n",
        "    per_device_eval_batch_size=batch_size,\n",
        "    evaluation_strategy='epoch',\n",
        "    logging_strategy='epoch',\n",
        "    learning_rate=1e-5,\n",
        "    num_train_epochs=10,\n",
        "    weight_decay=0.01,\n",
        "    gradient_accumulation_steps=2,\n",
        "    max_grad_norm=1.0,\n",
        "    optim='adamw_torch'\n",
        ")\n",
        "\n",
        "trainer = CustomTrainer(\n",
        "    model= model,\n",
        "    args=training_args,\n",
        "    train_dataset=train_dataset,\n",
        "    eval_dataset=test_dataset,\n",
        "    compute_metrics=compute_metrics\n",
        "\n",
        ")\n",
        "\n",
        "trainer.train()"
      ]
    },
    {
      "cell_type": "code",
      "execution_count": 35,
      "metadata": {
        "colab": {
          "base_uri": "https://localhost:8080/"
        },
        "id": "m_3mzwYcRoHQ",
        "outputId": "1a95adea-9cc8-4056-f1ac-bc675d3f85dd"
      },
      "outputs": [
        {
          "name": "stdout",
          "output_type": "stream",
          "text": [
            "[0.6439151167869568, 0.6434608697891235, 0.6522118449211121, 0.6466344594955444, 0.6519626975059509, 0.6487606763839722, 0.6464627385139465, 0.6476824879646301, 0.646708071231842, 0.6475809812545776]\n"
          ]
        }
      ],
      "source": [
        "# Access the training history\n",
        "metrics_history = trainer.state.log_history\n",
        "\n",
        "# Extract the NLL loss from evaluation phases\n",
        "nll_values = [entry['eval_nll_loss'] for entry in metrics_history if 'eval_nll_loss' in entry]\n",
        "print(nll_values)\n"
      ]
    },
    {
      "cell_type": "code",
      "execution_count": 37,
      "metadata": {
        "colab": {
          "base_uri": "https://localhost:8080/"
        },
        "id": "JNBgNIDnS_Ff",
        "outputId": "ab72da59-1092-42a9-8bff-2c7842da6855"
      },
      "outputs": [
        {
          "data": {
            "image/png": "[encoded data removed]",
            "text/plain": [
              "<Figure size 1000x500 with 1 Axes>"
            ]
          },
          "metadata": {},
          "output_type": "display_data"
        }
      ],
      "source": [
        "import matplotlib.pyplot as plt\n",
        "\n",
        "# Assuming `nll_values` holds your NLL loss data from the metrics\n",
        "epochs = range(1, len(nll_values) + 1)\n",
        "\n",
        "plt.figure(figsize=(10, 5))\n",
        "plt.plot(epochs, nll_values, marker='o', linestyle='-', color='blue')\n",
        "plt.title('NLL Loss Across Epochs')\n",
        "plt.xlabel('Epoch')\n",
        "plt.ylabel('NLL Loss')\n",
        "plt.grid(True)\n",
        "plt.xticks(epochs)  # Ensure all epoch numbers are marked\n",
        "plt.show()\n"
      ]
    },
    {
      "cell_type": "code",
      "execution_count": 29,
      "metadata": {
        "colab": {
          "base_uri": "https://localhost:8080/"
        },
        "id": "3TLVKkSNO-5k",
        "outputId": "a3f495a4-ee15-455f-d625-2af693398781"
      },
      "outputs": [
        {
          "name": "stdout",
          "output_type": "stream",
          "text": [
            "{'training': False, '_parameters': OrderedDict(), '_buffers': OrderedDict(), '_non_persistent_buffers_set': set(), '_backward_pre_hooks': OrderedDict(), '_backward_hooks': OrderedDict(), '_is_full_backward_hook': None, '_forward_hooks': OrderedDict(), '_forward_hooks_with_kwargs': OrderedDict(), '_forward_hooks_always_called': OrderedDict(), '_forward_pre_hooks': OrderedDict(), '_forward_pre_hooks_with_kwargs': OrderedDict(), '_state_dict_hooks': OrderedDict(), '_state_dict_pre_hooks': OrderedDict(), '_load_state_dict_pre_hooks': OrderedDict(), '_load_state_dict_post_hooks': OrderedDict(), '_modules': OrderedDict([('dropout', Dropout(p=0.5, inplace=False)), ('cognitive_layer', CognitiveLayerWrapper(\n",
            "  (base_model): LlamaForCausalLM(\n",
            "    (model): LlamaModel(\n",
            "      (embed_tokens): Embedding(32000, 4096, padding_idx=0)\n",
            "      (layers): ModuleList(\n",
            "        (0-31): 32 x LlamaDecoderLayer(\n",
            "          (self_attn): LlamaSdpaAttention(\n",
            "            (rotary_emb): LlamaRotaryEmbedding()\n",
            "            (k_proj): QuantLinear()\n",
            "            (o_proj): QuantLinear()\n",
            "            (q_proj): lora.QuantLinear(\n",
            "              (base_layer): QuantLinear()\n",
            "              (lora_dropout): ModuleDict(\n",
            "                (default): Dropout(p=0.05, inplace=False)\n",
            "              )\n",
            "              (lora_A): ModuleDict(\n",
            "                (default): Linear(in_features=4096, out_features=16, bias=False)\n",
            "              )\n",
            "              (lora_B): ModuleDict(\n",
            "                (default): Linear(in_features=16, out_features=4096, bias=False)\n",
            "              )\n",
            "              (lora_embedding_A): ParameterDict()\n",
            "              (lora_embedding_B): ParameterDict()\n",
            "              (lora_magnitude_vector): ModuleDict()\n",
            "              (quant_linear_module): QuantLinear()\n",
            "            )\n",
            "            (v_proj): lora.QuantLinear(\n",
            "              (base_layer): QuantLinear()\n",
            "              (lora_dropout): ModuleDict(\n",
            "                (default): Dropout(p=0.05, inplace=False)\n",
            "              )\n",
            "              (lora_A): ModuleDict(\n",
            "                (default): Linear(in_features=4096, out_features=16, bias=False)\n",
            "              )\n",
            "              (lora_B): ModuleDict(\n",
            "                (default): Linear(in_features=16, out_features=4096, bias=False)\n",
            "              )\n",
            "              (lora_embedding_A): ParameterDict()\n",
            "              (lora_embedding_B): ParameterDict()\n",
            "              (lora_magnitude_vector): ModuleDict()\n",
            "              (quant_linear_module): QuantLinear()\n",
            "            )\n",
            "          )\n",
            "          (mlp): LlamaMLP(\n",
            "            (act_fn): SiLU()\n",
            "            (down_proj): QuantLinear()\n",
            "            (gate_proj): QuantLinear()\n",
            "            (up_proj): QuantLinear()\n",
            "          )\n",
            "          (input_layernorm): LlamaRMSNorm()\n",
            "          (post_attention_layernorm): LlamaRMSNorm()\n",
            "        )\n",
            "      )\n",
            "      (norm): LlamaRMSNorm()\n",
            "    )\n",
            "    (lm_head): Linear(in_features=4096, out_features=32000, bias=False)\n",
            "  )\n",
            ")), ('classifier', Linear(in_features=4096, out_features=2, bias=True))]), '_is_accelerate_prepared': True}\n"
          ]
        }
      ],
      "source": [
        "print (model.__dict__)"
      ]
    }
  ],
  "metadata": {
    "accelerator": "GPU",
    "colab": {
      "gpuType": "T4",
      "machine_shape": "hm",
      "provenance": []
    },
    "kernelspec": {
      "display_name": "Python 3",
      "name": "python3"
    },
    "language_info": {
      "name": "python"
    }
  },
  "nbformat": 4,
  "nbformat_minor": 0
}